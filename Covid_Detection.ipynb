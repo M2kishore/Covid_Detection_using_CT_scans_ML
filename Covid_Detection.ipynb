{
  "nbformat": 4,
  "nbformat_minor": 0,
  "metadata": {
    "colab": {
      "name": "Covid Detection.ipynb",
      "provenance": [],
      "collapsed_sections": [],
      "include_colab_link": true
    },
    "kernelspec": {
      "name": "python3",
      "display_name": "Python 3"
    },
    "language_info": {
      "name": "python"
    },
    "accelerator": "GPU"
  },
  "cells": [
    {
      "cell_type": "markdown",
      "metadata": {
        "id": "view-in-github",
        "colab_type": "text"
      },
      "source": [
        "<a href=\"https://colab.research.google.com/github/M2kishore/Covid_Detection_using_CT_scans_ML/blob/main/Covid_Detection.ipynb\" target=\"_parent\"><img src=\"https://colab.research.google.com/assets/colab-badge.svg\" alt=\"Open In Colab\"/></a>"
      ]
    },
    {
      "cell_type": "code",
      "metadata": {
        "id": "YwzJusbPDLaw"
      },
      "source": [
        "import pandas as pd\n",
        "from glob import glob\n",
        "import cv2\n",
        "import pandas as pd\n",
        "from matplotlib import pyplot as plt"
      ],
      "execution_count": 1,
      "outputs": []
    },
    {
      "cell_type": "code",
      "metadata": {
        "id": "ub4OewGXZ98X",
        "colab": {
          "base_uri": "https://localhost:8080/"
        },
        "outputId": "abab1579-99dc-4e0e-c44e-5b105b5df9a5"
      },
      "source": [
        "\\from google.colab import drive\n",
        "drive.mount('/content/drive')"
      ],
      "execution_count": 2,
      "outputs": [
        {
          "output_type": "stream",
          "name": "stdout",
          "text": [
            "Mounted at /content/drive\n"
          ]
        }
      ]
    },
    {
      "cell_type": "markdown",
      "metadata": {
        "id": "J9nzrK98CRI_"
      },
      "source": [
        "Enter your path of the dataset location in your drive"
      ]
    },
    {
      "cell_type": "code",
      "metadata": {
        "colab": {
          "base_uri": "https://localhost:8080/"
        },
        "id": "IU2qcdknnoEI",
        "outputId": "8ca6743e-7770-447c-cdbe-c9e81c350cf7"
      },
      "source": [
        "%cd /content/drive/MyDrive/Amrita/Semester 6/semester_projects/Machine Learning/Dataset/"
      ],
      "execution_count": 3,
      "outputs": [
        {
          "output_type": "stream",
          "name": "stdout",
          "text": [
            "/content/drive/MyDrive/Amrita/Semester 6/semester_projects/Machine Learning/Dataset\n"
          ]
        }
      ]
    },
    {
      "cell_type": "code",
      "metadata": {
        "colab": {
          "base_uri": "https://localhost:8080/"
        },
        "id": "Zwh28sgJPZS-",
        "outputId": "de329df9-b445-438a-ef0b-a55a2e3cb693"
      },
      "source": [
        "%ls\n"
      ],
      "execution_count": null,
      "outputs": [
        {
          "output_type": "stream",
          "name": "stdout",
          "text": [
            "\u001b[0m\u001b[01;34mCOVID\u001b[0m/  feature_extracted.csv  \u001b[01;34mnon-COVID\u001b[0m/\n"
          ]
        }
      ]
    },
    {
      "cell_type": "code",
      "metadata": {
        "id": "TBjHycNqu0NT"
      },
      "source": [
        "#define size to which images are to be resized\n",
        "IMAGE_SIZE = [200, 200] # feel free to change depending on dataset\n",
        "\n",
        "# training config:\n",
        "epochs = 500\n",
        "batch_size = 32\n",
        "\n",
        "#define paths\n",
        "covid_path = 'COVID'\n",
        "noncovid_path = 'non-COVID'\n",
        "\n",
        "# Use glob to grab images from path .jpg or jpeg\n",
        "covid_files = glob(covid_path + '/*')\n",
        "noncovid_files = glob(noncovid_path + '/*')"
      ],
      "execution_count": 21,
      "outputs": []
    },
    {
      "cell_type": "code",
      "metadata": {
        "colab": {
          "base_uri": "https://localhost:8080/"
        },
        "id": "TV2czDLgO91x",
        "outputId": "a00ed140-0063-442e-b783-89bd3aab3e08"
      },
      "source": [
        "print(\"First 5 Covid Files: \",covid_files[0:5])\n",
        "print(\"Total Count: \",len(covid_files))\n",
        "print(\"First 5 NonCovid Files: \",noncovid_files[0:5])\n",
        "print(\"Total Count: \",len(noncovid_files))"
      ],
      "execution_count": 5,
      "outputs": [
        {
          "output_type": "stream",
          "name": "stdout",
          "text": [
            "First 5 Covid Files:  ['COVID/Covid (229).png', 'COVID/Covid (237).png', 'COVID/Covid (1251).png', 'COVID/Covid (182).png', 'COVID/Covid (262).png']\n",
            "Total Count:  1252\n",
            "First 5 NonCovid Files:  ['non-COVID/Non-Covid (1161).png', 'non-COVID/Non-Covid (1103).png', 'non-COVID/Non-Covid (1027).png', 'non-COVID/Non-Covid (1038).png', 'non-COVID/Non-Covid (123).png']\n",
            "Total Count:  1229\n"
          ]
        }
      ]
    },
    {
      "cell_type": "code",
      "metadata": {
        "id": "oT-p3j0byI-e"
      },
      "source": [
        "# Fetch Images and Class Labels from Files\n",
        "covid_labels = []\n",
        "noncovid_labels = []\n",
        "\n",
        "covid_images=[]\n",
        "noncovid_images=[]\n",
        "\n",
        "for i in range(len(covid_files)):\n",
        "  print(i)\n",
        "  image = cv2.imread(covid_files[i]) # read file \n",
        "  image = cv2.cvtColor(image, cv2.COLOR_BGR2RGB) # arrange format as per keras\n",
        "  image = cv2.resize(image,(224,224)) # resize as per model\n",
        "  covid_images.append(image) # append image\n",
        "  covid_labels.append('CT_COVID') #append class label\n",
        "for i in range(len(noncovid_files)):\n",
        "  image = cv2.imread(noncovid_files[i])\n",
        "  image = cv2.cvtColor(image, cv2.COLOR_BGR2RGB)\n",
        "  image = cv2.resize(image,(224,224))\n",
        "  noncovid_images.append(image)\n",
        "  noncovid_labels.append('CT_NonCOVID')"
      ],
      "execution_count": null,
      "outputs": []
    },
    {
      "cell_type": "code",
      "metadata": {
        "id": "EfRxEyXWxnQq"
      },
      "source": [
        "#lables generation\n",
        "covid_labels = []\n",
        "noncovid_labels = []\n",
        "for i in range(len(covid_files)):\n",
        "  covid_labels.append(\"covid\")\n",
        "for i in range(len(covid_files)):\n",
        "  noncovid_labels.append(\"noncovid\")"
      ],
      "execution_count": 18,
      "outputs": []
    },
    {
      "cell_type": "code",
      "metadata": {
        "colab": {
          "base_uri": "https://localhost:8080/",
          "height": 206
        },
        "id": "KLbksSsHGbLi",
        "outputId": "c4418d94-36b8-40c3-e0dd-206ac0ea56fd"
      },
      "source": [
        "files = covid_files + noncovid_files\n",
        "lables = covid_labels + noncovid_labels\n",
        "df = pd.DataFrame(list(zip(files, lables)),columns =['Files', 'Lables'])\n",
        "df = df.sample(frac=1, random_state=42) #shuffle dataset\n",
        "df.head()\n"
      ],
      "execution_count": 19,
      "outputs": [
        {
          "output_type": "execute_result",
          "data": {
            "text/html": [
              "<div>\n",
              "<style scoped>\n",
              "    .dataframe tbody tr th:only-of-type {\n",
              "        vertical-align: middle;\n",
              "    }\n",
              "\n",
              "    .dataframe tbody tr th {\n",
              "        vertical-align: top;\n",
              "    }\n",
              "\n",
              "    .dataframe thead th {\n",
              "        text-align: right;\n",
              "    }\n",
              "</style>\n",
              "<table border=\"1\" class=\"dataframe\">\n",
              "  <thead>\n",
              "    <tr style=\"text-align: right;\">\n",
              "      <th></th>\n",
              "      <th>Files</th>\n",
              "      <th>Lables</th>\n",
              "    </tr>\n",
              "  </thead>\n",
              "  <tbody>\n",
              "    <tr>\n",
              "      <th>254</th>\n",
              "      <td>COVID/Covid (321).png</td>\n",
              "      <td>covid</td>\n",
              "    </tr>\n",
              "    <tr>\n",
              "      <th>621</th>\n",
              "      <td>COVID/Covid (587).png</td>\n",
              "      <td>covid</td>\n",
              "    </tr>\n",
              "    <tr>\n",
              "      <th>1730</th>\n",
              "      <td>non-COVID/Non-Covid (638).png</td>\n",
              "      <td>noncovid</td>\n",
              "    </tr>\n",
              "    <tr>\n",
              "      <th>1792</th>\n",
              "      <td>non-COVID/Non-Covid (594).png</td>\n",
              "      <td>noncovid</td>\n",
              "    </tr>\n",
              "    <tr>\n",
              "      <th>819</th>\n",
              "      <td>COVID/Covid (811).png</td>\n",
              "      <td>covid</td>\n",
              "    </tr>\n",
              "  </tbody>\n",
              "</table>\n",
              "</div>"
            ],
            "text/plain": [
              "                              Files    Lables\n",
              "254           COVID/Covid (321).png     covid\n",
              "621           COVID/Covid (587).png     covid\n",
              "1730  non-COVID/Non-Covid (638).png  noncovid\n",
              "1792  non-COVID/Non-Covid (594).png  noncovid\n",
              "819           COVID/Covid (811).png     covid"
            ]
          },
          "metadata": {},
          "execution_count": 19
        }
      ]
    },
    {
      "cell_type": "code",
      "metadata": {
        "id": "E8sMV05eK31i",
        "colab": {
          "base_uri": "https://localhost:8080/"
        },
        "outputId": "5e0ee15c-5541-4b0c-ae66-f1ceb69f7da1"
      },
      "source": [
        "diss_sim = []\n",
        "corr = []\n",
        "homogen = []\n",
        "energy = []\n",
        "contrast = []\n",
        "lables = []\n",
        "print(df.iloc[6,1]) #get lable of 6th element\n"
      ],
      "execution_count": 161,
      "outputs": [
        {
          "output_type": "stream",
          "name": "stdout",
          "text": [
            "covid\n"
          ]
        }
      ]
    },
    {
      "cell_type": "code",
      "metadata": {
        "id": "JYknFO8i0o2M"
      },
      "source": [
        "from skimage.feature import greycomatrix, greycoprops\n",
        "from skimage import io\n",
        "#extract features\n",
        "\n",
        "def imageextractfeatures(image,lable):\n",
        "  PATCH_SIZE = 35\n",
        "  cell_locations = [(25,100),(150,100),(25,150),(25,50),(125,50),(150,50),(125,100),(125,150),(25,25)]\n",
        "  cell_patches = []\n",
        "  for loc in cell_locations:\n",
        "    cell_patches.append(image[loc[0]:loc[0] + PATCH_SIZE,\n",
        "                               loc[1]:loc[1] + PATCH_SIZE])\n",
        "  for patch in (cell_patches):\n",
        "    glcm = greycomatrix(patch, distances=[5], angles=[0], levels=256,\n",
        "                        symmetric=True, normed=True)\n",
        "    diss_sim.append(greycoprops(glcm, 'dissimilarity')[0, 0]) #[0,0] to convert array to value\n",
        "    corr.append(greycoprops(glcm, 'correlation')[0, 0])\n",
        "    homogen.append(greycoprops(glcm, 'homogeneity')[0, 0])\n",
        "    energy.append(greycoprops(glcm, 'energy')[0, 0])\n",
        "    contrast.append(greycoprops(glcm, 'contrast')[0, 0])\n",
        "    lables.append(lable)\n",
        "  print(contrast)\n",
        "  plt.imshow(image, cmap=plt.cm.gray,vmin=0, vmax=255)\n",
        "  for (x, y) in cell_locations:\n",
        "    plt.plot(x + PATCH_SIZE / 2, y + PATCH_SIZE / 2, 'gs')\n",
        "  #plt.imshow(image)\n"
      ],
      "execution_count": 159,
      "outputs": []
    },
    {
      "cell_type": "code",
      "metadata": {
        "colab": {
          "base_uri": "https://localhost:8080/",
          "height": 659
        },
        "id": "rczridNnIUpg",
        "outputId": "81827270-bda6-4d9e-f115-0f9a2ff2ff95"
      },
      "source": [
        "def generateDataFrame():\n",
        "  for index in range(0,10):\n",
        "    print(df[\"Lables\"][index])\n",
        "    image = cv2.imread(df[\"Files\"][index])\n",
        "    image = cv2.cvtColor(image,cv2.COLOR_BGR2GRAY)\n",
        "    image = cv2.resize(image,(IMAGE_SIZE[0],IMAGE_SIZE[1]))\n",
        "    image.resize(IMAGE_SIZE)\n",
        "    imageextractfeatures(image,df[\"Lables\"][index])\n",
        "generateDataFrame()"
      ],
      "execution_count": 162,
      "outputs": [
        {
          "output_type": "stream",
          "name": "stdout",
          "text": [
            "covid\n",
            "[57.61619047619047, 1020.4657142857141, 2812.0000000000023, 3538.4809523809545, 4298.801904761903, 2344.2904761904747, 2547.9219047619044, 4984.223809523807, 428.2952380952385]\n",
            "covid\n",
            "[57.61619047619047, 1020.4657142857141, 2812.0000000000023, 3538.4809523809545, 4298.801904761903, 2344.2904761904747, 2547.9219047619044, 4984.223809523807, 428.2952380952385, 57.804761904761904, 1707.6019047619043, 2618.364761904766, 3291.4428571428584, 4029.774285714284, 3081.5257142857126, 3053.2742857142853, 4599.425714285714, 591.3476190476196]\n",
            "covid\n",
            "[57.61619047619047, 1020.4657142857141, 2812.0000000000023, 3538.4809523809545, 4298.801904761903, 2344.2904761904747, 2547.9219047619044, 4984.223809523807, 428.2952380952385, 57.804761904761904, 1707.6019047619043, 2618.364761904766, 3291.4428571428584, 4029.774285714284, 3081.5257142857126, 3053.2742857142853, 4599.425714285714, 591.3476190476196, 947.998095238095, 4355.398095238095, 5450.371428571429, 5629.420952380951, 4630.250476190477, 4859.47238095238, 6467.874285714286, 2555.14, 3767.5733333333337]\n",
            "covid\n",
            "[57.61619047619047, 1020.4657142857141, 2812.0000000000023, 3538.4809523809545, 4298.801904761903, 2344.2904761904747, 2547.9219047619044, 4984.223809523807, 428.2952380952385, 57.804761904761904, 1707.6019047619043, 2618.364761904766, 3291.4428571428584, 4029.774285714284, 3081.5257142857126, 3053.2742857142853, 4599.425714285714, 591.3476190476196, 947.998095238095, 4355.398095238095, 5450.371428571429, 5629.420952380951, 4630.250476190477, 4859.47238095238, 6467.874285714286, 2555.14, 3767.5733333333337, 331.62571428571425, 4590.46761904762, 2153.0790476190496, 1531.7733333333344, 2040.0104761904777, 1438.2685714285728, 4008.044761904761, 3220.1114285714266, 183.08952380952383]\n",
            "covid\n",
            "[57.61619047619047, 1020.4657142857141, 2812.0000000000023, 3538.4809523809545, 4298.801904761903, 2344.2904761904747, 2547.9219047619044, 4984.223809523807, 428.2952380952385, 57.804761904761904, 1707.6019047619043, 2618.364761904766, 3291.4428571428584, 4029.774285714284, 3081.5257142857126, 3053.2742857142853, 4599.425714285714, 591.3476190476196, 947.998095238095, 4355.398095238095, 5450.371428571429, 5629.420952380951, 4630.250476190477, 4859.47238095238, 6467.874285714286, 2555.14, 3767.5733333333337, 331.62571428571425, 4590.46761904762, 2153.0790476190496, 1531.7733333333344, 2040.0104761904777, 1438.2685714285728, 4008.044761904761, 3220.1114285714266, 183.08952380952383, 2661.912380952382, 2572.5571428571425, 2334.1009523809516, 628.276190476191, 2386.8828571428558, 1915.119999999999, 456.9123809523809, 3914.1457142857125, 3248.9980952380965]\n",
            "covid\n",
            "[57.61619047619047, 1020.4657142857141, 2812.0000000000023, 3538.4809523809545, 4298.801904761903, 2344.2904761904747, 2547.9219047619044, 4984.223809523807, 428.2952380952385, 57.804761904761904, 1707.6019047619043, 2618.364761904766, 3291.4428571428584, 4029.774285714284, 3081.5257142857126, 3053.2742857142853, 4599.425714285714, 591.3476190476196, 947.998095238095, 4355.398095238095, 5450.371428571429, 5629.420952380951, 4630.250476190477, 4859.47238095238, 6467.874285714286, 2555.14, 3767.5733333333337, 331.62571428571425, 4590.46761904762, 2153.0790476190496, 1531.7733333333344, 2040.0104761904777, 1438.2685714285728, 4008.044761904761, 3220.1114285714266, 183.08952380952383, 2661.912380952382, 2572.5571428571425, 2334.1009523809516, 628.276190476191, 2386.8828571428558, 1915.119999999999, 456.9123809523809, 3914.1457142857125, 3248.9980952380965, 3007.251428571429, 3205.36380952381, 3917.937142857141, 1796.2523809523823, 1915.9400000000014, 3485.6180952380946, 1912.0266666666666, 2584.240952380954, 1622.3000000000018]\n",
            "covid\n",
            "[57.61619047619047, 1020.4657142857141, 2812.0000000000023, 3538.4809523809545, 4298.801904761903, 2344.2904761904747, 2547.9219047619044, 4984.223809523807, 428.2952380952385, 57.804761904761904, 1707.6019047619043, 2618.364761904766, 3291.4428571428584, 4029.774285714284, 3081.5257142857126, 3053.2742857142853, 4599.425714285714, 591.3476190476196, 947.998095238095, 4355.398095238095, 5450.371428571429, 5629.420952380951, 4630.250476190477, 4859.47238095238, 6467.874285714286, 2555.14, 3767.5733333333337, 331.62571428571425, 4590.46761904762, 2153.0790476190496, 1531.7733333333344, 2040.0104761904777, 1438.2685714285728, 4008.044761904761, 3220.1114285714266, 183.08952380952383, 2661.912380952382, 2572.5571428571425, 2334.1009523809516, 628.276190476191, 2386.8828571428558, 1915.119999999999, 456.9123809523809, 3914.1457142857125, 3248.9980952380965, 3007.251428571429, 3205.36380952381, 3917.937142857141, 1796.2523809523823, 1915.9400000000014, 3485.6180952380946, 1912.0266666666666, 2584.240952380954, 1622.3000000000018, 880.372380952381, 2593.2628571428572, 3081.3085714285753, 2643.3904761904796, 1470.5504761904754, 3049.799047619047, 359.5638095238094, 1721.947619047619, 882.6066666666673]\n",
            "covid\n",
            "[57.61619047619047, 1020.4657142857141, 2812.0000000000023, 3538.4809523809545, 4298.801904761903, 2344.2904761904747, 2547.9219047619044, 4984.223809523807, 428.2952380952385, 57.804761904761904, 1707.6019047619043, 2618.364761904766, 3291.4428571428584, 4029.774285714284, 3081.5257142857126, 3053.2742857142853, 4599.425714285714, 591.3476190476196, 947.998095238095, 4355.398095238095, 5450.371428571429, 5629.420952380951, 4630.250476190477, 4859.47238095238, 6467.874285714286, 2555.14, 3767.5733333333337, 331.62571428571425, 4590.46761904762, 2153.0790476190496, 1531.7733333333344, 2040.0104761904777, 1438.2685714285728, 4008.044761904761, 3220.1114285714266, 183.08952380952383, 2661.912380952382, 2572.5571428571425, 2334.1009523809516, 628.276190476191, 2386.8828571428558, 1915.119999999999, 456.9123809523809, 3914.1457142857125, 3248.9980952380965, 3007.251428571429, 3205.36380952381, 3917.937142857141, 1796.2523809523823, 1915.9400000000014, 3485.6180952380946, 1912.0266666666666, 2584.240952380954, 1622.3000000000018, 880.372380952381, 2593.2628571428572, 3081.3085714285753, 2643.3904761904796, 1470.5504761904754, 3049.799047619047, 359.5638095238094, 1721.947619047619, 882.6066666666673, 141.6085714285714, 2169.018095238095, 3643.741904761904, 1665.0561904761903, 1672.2542857142862, 2166.7152380952375, 1256.6704761904764, 1167.337142857144, 903.1676190476192]\n",
            "covid\n",
            "[57.61619047619047, 1020.4657142857141, 2812.0000000000023, 3538.4809523809545, 4298.801904761903, 2344.2904761904747, 2547.9219047619044, 4984.223809523807, 428.2952380952385, 57.804761904761904, 1707.6019047619043, 2618.364761904766, 3291.4428571428584, 4029.774285714284, 3081.5257142857126, 3053.2742857142853, 4599.425714285714, 591.3476190476196, 947.998095238095, 4355.398095238095, 5450.371428571429, 5629.420952380951, 4630.250476190477, 4859.47238095238, 6467.874285714286, 2555.14, 3767.5733333333337, 331.62571428571425, 4590.46761904762, 2153.0790476190496, 1531.7733333333344, 2040.0104761904777, 1438.2685714285728, 4008.044761904761, 3220.1114285714266, 183.08952380952383, 2661.912380952382, 2572.5571428571425, 2334.1009523809516, 628.276190476191, 2386.8828571428558, 1915.119999999999, 456.9123809523809, 3914.1457142857125, 3248.9980952380965, 3007.251428571429, 3205.36380952381, 3917.937142857141, 1796.2523809523823, 1915.9400000000014, 3485.6180952380946, 1912.0266666666666, 2584.240952380954, 1622.3000000000018, 880.372380952381, 2593.2628571428572, 3081.3085714285753, 2643.3904761904796, 1470.5504761904754, 3049.799047619047, 359.5638095238094, 1721.947619047619, 882.6066666666673, 141.6085714285714, 2169.018095238095, 3643.741904761904, 1665.0561904761903, 1672.2542857142862, 2166.7152380952375, 1256.6704761904764, 1167.337142857144, 903.1676190476192, 562.2104761904767, 4084.019999999999, 4518.451428571434, 1278.5390476190485, 2619.3790476190507, 5028.367619047617, 4204.487619047621, 1259.4304761904768, 467.82666666666637]\n",
            "covid\n",
            "[57.61619047619047, 1020.4657142857141, 2812.0000000000023, 3538.4809523809545, 4298.801904761903, 2344.2904761904747, 2547.9219047619044, 4984.223809523807, 428.2952380952385, 57.804761904761904, 1707.6019047619043, 2618.364761904766, 3291.4428571428584, 4029.774285714284, 3081.5257142857126, 3053.2742857142853, 4599.425714285714, 591.3476190476196, 947.998095238095, 4355.398095238095, 5450.371428571429, 5629.420952380951, 4630.250476190477, 4859.47238095238, 6467.874285714286, 2555.14, 3767.5733333333337, 331.62571428571425, 4590.46761904762, 2153.0790476190496, 1531.7733333333344, 2040.0104761904777, 1438.2685714285728, 4008.044761904761, 3220.1114285714266, 183.08952380952383, 2661.912380952382, 2572.5571428571425, 2334.1009523809516, 628.276190476191, 2386.8828571428558, 1915.119999999999, 456.9123809523809, 3914.1457142857125, 3248.9980952380965, 3007.251428571429, 3205.36380952381, 3917.937142857141, 1796.2523809523823, 1915.9400000000014, 3485.6180952380946, 1912.0266666666666, 2584.240952380954, 1622.3000000000018, 880.372380952381, 2593.2628571428572, 3081.3085714285753, 2643.3904761904796, 1470.5504761904754, 3049.799047619047, 359.5638095238094, 1721.947619047619, 882.6066666666673, 141.6085714285714, 2169.018095238095, 3643.741904761904, 1665.0561904761903, 1672.2542857142862, 2166.7152380952375, 1256.6704761904764, 1167.337142857144, 903.1676190476192, 562.2104761904767, 4084.019999999999, 4518.451428571434, 1278.5390476190485, 2619.3790476190507, 5028.367619047617, 4204.487619047621, 1259.4304761904768, 467.82666666666637, 324.6180952380952, 3242.5266666666657, 1853.5961904761903, 1413.7619047619055, 4624.723809523809, 2744.607619047618, 4362.400952380956, 4112.070476190476, 1780.9714285714285]\n"
          ]
        },
        {
          "output_type": "display_data",
          "data": {
            "image/png": "[encoded data removed]",
            "text/plain": [
              "<Figure size 432x288 with 1 Axes>"
            ]
          },
          "metadata": {
            "needs_background": "light"
          }
        }
      ]
    },
    {
      "cell_type": "code",
      "metadata": {
        "colab": {
          "base_uri": "https://localhost:8080/"
        },
        "id": "i1RX79DhxsXG",
        "outputId": "8c91f348-dbc6-4859-e8fb-802f9df5813c"
      },
      "source": [
        "#create dataset\n",
        "def createDataSet():\n",
        "  final_dataframe = pd.DataFrame(list(zip(diss_sim, corr,homogen,energy,contrast,lables)),\n",
        "               columns =['Dissimilarity', 'correlation','homogen','Energy','Contrast','lables'])\n",
        "  print(final_dataframe.head())\n",
        "  print(final_dataframe.shape)\n",
        "createDataSet()\n"
      ],
      "execution_count": 166,
      "outputs": [
        {
          "output_type": "stream",
          "name": "stdout",
          "text": [
            "   Dissimilarity  correlation   homogen    Energy     Contrast lables\n",
            "0       6.002857     0.060181  0.154202  0.058395    57.616190  covid\n",
            "1      21.983810     0.388447  0.162945  0.123595  1020.465714  covid\n",
            "2      23.234286     0.559659  0.323045  0.159507  2812.000000  covid\n",
            "3      31.640952     0.573115  0.257550  0.130624  3538.480952  covid\n",
            "4      40.952381     0.196996  0.109157  0.049327  4298.801905  covid\n",
            "(90, 6)\n"
          ]
        }
      ]
    },
    {
      "cell_type": "code",
      "metadata": {
        "id": "WTRVyP4Qyl5z"
      },
      "source": [
        ""
      ],
      "execution_count": null,
      "outputs": []
    },
    {
      "cell_type": "code",
      "metadata": {
        "id": "_eB6yrQzHp0o"
      },
      "source": [
        "#df.to_csv(\"feature_extracted.csv\")\n"
      ],
      "execution_count": 11,
      "outputs": []
    },
    {
      "cell_type": "code",
      "metadata": {
        "colab": {
          "base_uri": "https://localhost:8080/",
          "height": 424
        },
        "id": "cX4ve9AZIdB5",
        "outputId": "3ae38b7a-5aaf-446d-e909-14d33fada7f4"
      },
      "source": [
        "#df2 = pd.read_csv('https://raw.githubusercontent.com/M2kishore/Covid_Detection_using_CT_scans_ML/main/feature_extracted.csv', header=None)\n",
        "df2 = pd.read_csv('https://raw.githubusercontent.com/M2kishore/Covid_Detection_using_CT_scans_ML/M2kishore-dataset-with-file-lable/feature_extracted.csv')\n",
        "df2"
      ],
      "execution_count": 12,
      "outputs": [
        {
          "output_type": "execute_result",
          "data": {
            "text/html": [
              "<div>\n",
              "<style scoped>\n",
              "    .dataframe tbody tr th:only-of-type {\n",
              "        vertical-align: middle;\n",
              "    }\n",
              "\n",
              "    .dataframe tbody tr th {\n",
              "        vertical-align: top;\n",
              "    }\n",
              "\n",
              "    .dataframe thead th {\n",
              "        text-align: right;\n",
              "    }\n",
              "</style>\n",
              "<table border=\"1\" class=\"dataframe\">\n",
              "  <thead>\n",
              "    <tr style=\"text-align: right;\">\n",
              "      <th></th>\n",
              "      <th>Unnamed: 0</th>\n",
              "      <th>Files</th>\n",
              "      <th>Lables</th>\n",
              "    </tr>\n",
              "  </thead>\n",
              "  <tbody>\n",
              "    <tr>\n",
              "      <th>0</th>\n",
              "      <td>254</td>\n",
              "      <td>COVID/Covid (321).png</td>\n",
              "      <td>covid</td>\n",
              "    </tr>\n",
              "    <tr>\n",
              "      <th>1</th>\n",
              "      <td>621</td>\n",
              "      <td>COVID/Covid (587).png</td>\n",
              "      <td>covid</td>\n",
              "    </tr>\n",
              "    <tr>\n",
              "      <th>2</th>\n",
              "      <td>1730</td>\n",
              "      <td>non-COVID/Non-Covid (638).png</td>\n",
              "      <td>noncovid</td>\n",
              "    </tr>\n",
              "    <tr>\n",
              "      <th>3</th>\n",
              "      <td>1792</td>\n",
              "      <td>non-COVID/Non-Covid (594).png</td>\n",
              "      <td>noncovid</td>\n",
              "    </tr>\n",
              "    <tr>\n",
              "      <th>4</th>\n",
              "      <td>819</td>\n",
              "      <td>COVID/Covid (811).png</td>\n",
              "      <td>covid</td>\n",
              "    </tr>\n",
              "    <tr>\n",
              "      <th>...</th>\n",
              "      <td>...</td>\n",
              "      <td>...</td>\n",
              "      <td>...</td>\n",
              "    </tr>\n",
              "    <tr>\n",
              "      <th>2476</th>\n",
              "      <td>1638</td>\n",
              "      <td>non-COVID/Non-Covid (38).png</td>\n",
              "      <td>noncovid</td>\n",
              "    </tr>\n",
              "    <tr>\n",
              "      <th>2477</th>\n",
              "      <td>1095</td>\n",
              "      <td>COVID/Covid (108).png</td>\n",
              "      <td>covid</td>\n",
              "    </tr>\n",
              "    <tr>\n",
              "      <th>2478</th>\n",
              "      <td>1130</td>\n",
              "      <td>COVID/Covid (1148).png</td>\n",
              "      <td>covid</td>\n",
              "    </tr>\n",
              "    <tr>\n",
              "      <th>2479</th>\n",
              "      <td>1294</td>\n",
              "      <td>non-COVID/Non-Covid (272).png</td>\n",
              "      <td>noncovid</td>\n",
              "    </tr>\n",
              "    <tr>\n",
              "      <th>2480</th>\n",
              "      <td>860</td>\n",
              "      <td>COVID/Covid (968).png</td>\n",
              "      <td>covid</td>\n",
              "    </tr>\n",
              "  </tbody>\n",
              "</table>\n",
              "<p>2481 rows × 3 columns</p>\n",
              "</div>"
            ],
            "text/plain": [
              "      Unnamed: 0                          Files    Lables\n",
              "0            254          COVID/Covid (321).png     covid\n",
              "1            621          COVID/Covid (587).png     covid\n",
              "2           1730  non-COVID/Non-Covid (638).png  noncovid\n",
              "3           1792  non-COVID/Non-Covid (594).png  noncovid\n",
              "4            819          COVID/Covid (811).png     covid\n",
              "...          ...                            ...       ...\n",
              "2476        1638   non-COVID/Non-Covid (38).png  noncovid\n",
              "2477        1095          COVID/Covid (108).png     covid\n",
              "2478        1130         COVID/Covid (1148).png     covid\n",
              "2479        1294  non-COVID/Non-Covid (272).png  noncovid\n",
              "2480         860          COVID/Covid (968).png     covid\n",
              "\n",
              "[2481 rows x 3 columns]"
            ]
          },
          "metadata": {},
          "execution_count": 12
        }
      ]
    }
  ]
}