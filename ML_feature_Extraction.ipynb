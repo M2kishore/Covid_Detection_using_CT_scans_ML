{
  "nbformat": 4,
  "nbformat_minor": 0,
  "metadata": {
    "colab": {
      "name": "ML_feature_Extraction.ipynb",
      "provenance": [],
      "authorship_tag": "ABX9TyMj0+WuDwddv33IYpGhDMGt",
      "include_colab_link": true
    },
    "kernelspec": {
      "name": "python3",
      "display_name": "Python 3"
    },
    "language_info": {
      "name": "python"
    },
    "widgets": {
      "application/vnd.jupyter.widget-state+json": {
        "1466be84eeb94a6e9dda671b7ec6b501": {
          "model_module": "@jupyter-widgets/controls",
          "model_name": "HBoxModel",
          "model_module_version": "1.5.0",
          "state": {
            "_view_name": "HBoxView",
            "_dom_classes": [],
            "_model_name": "HBoxModel",
            "_view_module": "@jupyter-widgets/controls",
            "_model_module_version": "1.5.0",
            "_view_count": null,
            "_view_module_version": "1.5.0",
            "box_style": "",
            "layout": "IPY_MODEL_95bb81c1dcfc4bbba594be220b335530",
            "_model_module": "@jupyter-widgets/controls",
            "children": [
              "IPY_MODEL_10686f186b2e49eda68f834baf13f067",
              "IPY_MODEL_1fbf0531d8444ca286ae2e05058f2fea",
              "IPY_MODEL_e757ddcd254b414795554e44b7b44260"
            ]
          }
        },
        "95bb81c1dcfc4bbba594be220b335530": {
          "model_module": "@jupyter-widgets/base",
          "model_name": "LayoutModel",
          "model_module_version": "1.2.0",
          "state": {
            "_view_name": "LayoutView",
            "grid_template_rows": null,
            "right": null,
            "justify_content": null,
            "_view_module": "@jupyter-widgets/base",
            "overflow": null,
            "_model_module_version": "1.2.0",
            "_view_count": null,
            "flex_flow": null,
            "width": null,
            "min_width": null,
            "border": null,
            "align_items": null,
            "bottom": null,
            "_model_module": "@jupyter-widgets/base",
            "top": null,
            "grid_column": null,
            "overflow_y": null,
            "overflow_x": null,
            "grid_auto_flow": null,
            "grid_area": null,
            "grid_template_columns": null,
            "flex": null,
            "_model_name": "LayoutModel",
            "justify_items": null,
            "grid_row": null,
            "max_height": null,
            "align_content": null,
            "visibility": null,
            "align_self": null,
            "height": null,
            "min_height": null,
            "padding": null,
            "grid_auto_rows": null,
            "grid_gap": null,
            "max_width": null,
            "order": null,
            "_view_module_version": "1.2.0",
            "grid_template_areas": null,
            "object_position": null,
            "object_fit": null,
            "grid_auto_columns": null,
            "margin": null,
            "display": null,
            "left": null
          }
        },
        "10686f186b2e49eda68f834baf13f067": {
          "model_module": "@jupyter-widgets/controls",
          "model_name": "HTMLModel",
          "model_module_version": "1.5.0",
          "state": {
            "_view_name": "HTMLView",
            "style": "IPY_MODEL_b905e45de52e4bd580b50758b72f46e2",
            "_dom_classes": [],
            "description": "",
            "_model_name": "HTMLModel",
            "placeholder": "​",
            "_view_module": "@jupyter-widgets/controls",
            "_model_module_version": "1.5.0",
            "value": "100%",
            "_view_count": null,
            "_view_module_version": "1.5.0",
            "description_tooltip": null,
            "_model_module": "@jupyter-widgets/controls",
            "layout": "IPY_MODEL_879f71f277f542bbbe447f3f4efb8a33"
          }
        },
        "1fbf0531d8444ca286ae2e05058f2fea": {
          "model_module": "@jupyter-widgets/controls",
          "model_name": "FloatProgressModel",
          "model_module_version": "1.5.0",
          "state": {
            "_view_name": "ProgressView",
            "style": "IPY_MODEL_4600d816e29046f682e533ee3df3296b",
            "_dom_classes": [],
            "description": "",
            "_model_name": "FloatProgressModel",
            "bar_style": "success",
            "max": 2481,
            "_view_module": "@jupyter-widgets/controls",
            "_model_module_version": "1.5.0",
            "value": 2481,
            "_view_count": null,
            "_view_module_version": "1.5.0",
            "orientation": "horizontal",
            "min": 0,
            "description_tooltip": null,
            "_model_module": "@jupyter-widgets/controls",
            "layout": "IPY_MODEL_ade9e912aca64d46a553f42eb9297d57"
          }
        },
        "e757ddcd254b414795554e44b7b44260": {
          "model_module": "@jupyter-widgets/controls",
          "model_name": "HTMLModel",
          "model_module_version": "1.5.0",
          "state": {
            "_view_name": "HTMLView",
            "style": "IPY_MODEL_464787ed0a3645509e0fcc1ac7c33b6b",
            "_dom_classes": [],
            "description": "",
            "_model_name": "HTMLModel",
            "placeholder": "​",
            "_view_module": "@jupyter-widgets/controls",
            "_model_module_version": "1.5.0",
            "value": " 2481/2481 [11:25&lt;00:00,  3.50it/s]",
            "_view_count": null,
            "_view_module_version": "1.5.0",
            "description_tooltip": null,
            "_model_module": "@jupyter-widgets/controls",
            "layout": "IPY_MODEL_cf2e0e4652a94d2a80b7d9dbfc0bf762"
          }
        },
        "b905e45de52e4bd580b50758b72f46e2": {
          "model_module": "@jupyter-widgets/controls",
          "model_name": "DescriptionStyleModel",
          "model_module_version": "1.5.0",
          "state": {
            "_view_name": "StyleView",
            "_model_name": "DescriptionStyleModel",
            "description_width": "",
            "_view_module": "@jupyter-widgets/base",
            "_model_module_version": "1.5.0",
            "_view_count": null,
            "_view_module_version": "1.2.0",
            "_model_module": "@jupyter-widgets/controls"
          }
        },
        "879f71f277f542bbbe447f3f4efb8a33": {
          "model_module": "@jupyter-widgets/base",
          "model_name": "LayoutModel",
          "model_module_version": "1.2.0",
          "state": {
            "_view_name": "LayoutView",
            "grid_template_rows": null,
            "right": null,
            "justify_content": null,
            "_view_module": "@jupyter-widgets/base",
            "overflow": null,
            "_model_module_version": "1.2.0",
            "_view_count": null,
            "flex_flow": null,
            "width": null,
            "min_width": null,
            "border": null,
            "align_items": null,
            "bottom": null,
            "_model_module": "@jupyter-widgets/base",
            "top": null,
            "grid_column": null,
            "overflow_y": null,
            "overflow_x": null,
            "grid_auto_flow": null,
            "grid_area": null,
            "grid_template_columns": null,
            "flex": null,
            "_model_name": "LayoutModel",
            "justify_items": null,
            "grid_row": null,
            "max_height": null,
            "align_content": null,
            "visibility": null,
            "align_self": null,
            "height": null,
            "min_height": null,
            "padding": null,
            "grid_auto_rows": null,
            "grid_gap": null,
            "max_width": null,
            "order": null,
            "_view_module_version": "1.2.0",
            "grid_template_areas": null,
            "object_position": null,
            "object_fit": null,
            "grid_auto_columns": null,
            "margin": null,
            "display": null,
            "left": null
          }
        },
        "4600d816e29046f682e533ee3df3296b": {
          "model_module": "@jupyter-widgets/controls",
          "model_name": "ProgressStyleModel",
          "model_module_version": "1.5.0",
          "state": {
            "_view_name": "StyleView",
            "_model_name": "ProgressStyleModel",
            "description_width": "",
            "_view_module": "@jupyter-widgets/base",
            "_model_module_version": "1.5.0",
            "_view_count": null,
            "_view_module_version": "1.2.0",
            "bar_color": null,
            "_model_module": "@jupyter-widgets/controls"
          }
        },
        "ade9e912aca64d46a553f42eb9297d57": {
          "model_module": "@jupyter-widgets/base",
          "model_name": "LayoutModel",
          "model_module_version": "1.2.0",
          "state": {
            "_view_name": "LayoutView",
            "grid_template_rows": null,
            "right": null,
            "justify_content": null,
            "_view_module": "@jupyter-widgets/base",
            "overflow": null,
            "_model_module_version": "1.2.0",
            "_view_count": null,
            "flex_flow": null,
            "width": null,
            "min_width": null,
            "border": null,
            "align_items": null,
            "bottom": null,
            "_model_module": "@jupyter-widgets/base",
            "top": null,
            "grid_column": null,
            "overflow_y": null,
            "overflow_x": null,
            "grid_auto_flow": null,
            "grid_area": null,
            "grid_template_columns": null,
            "flex": null,
            "_model_name": "LayoutModel",
            "justify_items": null,
            "grid_row": null,
            "max_height": null,
            "align_content": null,
            "visibility": null,
            "align_self": null,
            "height": null,
            "min_height": null,
            "padding": null,
            "grid_auto_rows": null,
            "grid_gap": null,
            "max_width": null,
            "order": null,
            "_view_module_version": "1.2.0",
            "grid_template_areas": null,
            "object_position": null,
            "object_fit": null,
            "grid_auto_columns": null,
            "margin": null,
            "display": null,
            "left": null
          }
        },
        "464787ed0a3645509e0fcc1ac7c33b6b": {
          "model_module": "@jupyter-widgets/controls",
          "model_name": "DescriptionStyleModel",
          "model_module_version": "1.5.0",
          "state": {
            "_view_name": "StyleView",
            "_model_name": "DescriptionStyleModel",
            "description_width": "",
            "_view_module": "@jupyter-widgets/base",
            "_model_module_version": "1.5.0",
            "_view_count": null,
            "_view_module_version": "1.2.0",
            "_model_module": "@jupyter-widgets/controls"
          }
        },
        "cf2e0e4652a94d2a80b7d9dbfc0bf762": {
          "model_module": "@jupyter-widgets/base",
          "model_name": "LayoutModel",
          "model_module_version": "1.2.0",
          "state": {
            "_view_name": "LayoutView",
            "grid_template_rows": null,
            "right": null,
            "justify_content": null,
            "_view_module": "@jupyter-widgets/base",
            "overflow": null,
            "_model_module_version": "1.2.0",
            "_view_count": null,
            "flex_flow": null,
            "width": null,
            "min_width": null,
            "border": null,
            "align_items": null,
            "bottom": null,
            "_model_module": "@jupyter-widgets/base",
            "top": null,
            "grid_column": null,
            "overflow_y": null,
            "overflow_x": null,
            "grid_auto_flow": null,
            "grid_area": null,
            "grid_template_columns": null,
            "flex": null,
            "_model_name": "LayoutModel",
            "justify_items": null,
            "grid_row": null,
            "max_height": null,
            "align_content": null,
            "visibility": null,
            "align_self": null,
            "height": null,
            "min_height": null,
            "padding": null,
            "grid_auto_rows": null,
            "grid_gap": null,
            "max_width": null,
            "order": null,
            "_view_module_version": "1.2.0",
            "grid_template_areas": null,
            "object_position": null,
            "object_fit": null,
            "grid_auto_columns": null,
            "margin": null,
            "display": null,
            "left": null
          }
        }
      }
    }
  },
  "cells": [
    {
      "cell_type": "markdown",
      "metadata": {
        "id": "view-in-github",
        "colab_type": "text"
      },
      "source": [
        "<a href=\"https://colab.research.google.com/github/M2kishore/Covid_Detection_using_CT_scans_ML/blob/main/ML_feature_Extraction.ipynb\" target=\"_parent\"><img src=\"https://colab.research.google.com/assets/colab-badge.svg\" alt=\"Open In Colab\"/></a>"
      ]
    },
    {
      "cell_type": "code",
      "metadata": {
        "id": "HBiZRhAB4LEj"
      },
      "source": [
        "%matplotlib inline\n",
        "from glob import glob\n",
        "import cv2\n",
        "import PIL\n",
        "import tqdm\n",
        "import pickle\n",
        "import pandas as pd\n",
        "import numpy as np\n",
        "import seaborn as sns\n",
        "import matplotlib.pyplot as plt\n",
        "from torchvision import datasets\n",
        "from sklearn.model_selection import train_test_split\n",
        "from sklearn.metrics import mean_absolute_error, accuracy_score\n",
        "from sklearn.preprocessing import LabelEncoder, StandardScaler\n",
        "from skimage.filters import gabor\n",
        "from skimage.feature import local_binary_pattern, greycomatrix, greycoprops"
      ],
      "execution_count": 68,
      "outputs": []
    },
    {
      "cell_type": "markdown",
      "metadata": {
        "id": "Xkby5MJZ6ULV"
      },
      "source": [
        "## Decomposition imports"
      ]
    },
    {
      "cell_type": "code",
      "metadata": {
        "id": "y8470Foh6MRk"
      },
      "source": [
        "from sklearn.decomposition import PCA,FastICA\n",
        "from sklearn.discriminant_analysis import LinearDiscriminantAnalysis\n",
        "from sklearn.manifold import LocallyLinearEmbedding\n",
        "from sklearn.manifold import TSNE"
      ],
      "execution_count": 126,
      "outputs": []
    },
    {
      "cell_type": "markdown",
      "metadata": {
        "id": "vvBS7BTQAo0S"
      },
      "source": [
        "## Ensemble"
      ]
    },
    {
      "cell_type": "code",
      "metadata": {
        "id": "hPmF_JjjAQ-E"
      },
      "source": [
        "from sklearn.ensemble import RandomForestClassifier"
      ],
      "execution_count": 69,
      "outputs": []
    },
    {
      "cell_type": "markdown",
      "metadata": {
        "id": "yX8cP2wVA44g"
      },
      "source": [
        "## Evaluation Metrics"
      ]
    },
    {
      "cell_type": "code",
      "metadata": {
        "id": "ziTs0seTA5SS"
      },
      "source": [
        "from sklearn.metrics import classification_report,confusion_matrix"
      ],
      "execution_count": 77,
      "outputs": []
    },
    {
      "cell_type": "code",
      "metadata": {
        "colab": {
          "base_uri": "https://localhost:8080/"
        },
        "id": "GRCFI8K-4RSc",
        "outputId": "f04f5b1e-d767-42b9-b64d-db2b5eae348b"
      },
      "source": [
        "from google.colab import drive\n",
        "drive.mount('/content/drive')"
      ],
      "execution_count": null,
      "outputs": [
        {
          "output_type": "stream",
          "name": "stdout",
          "text": [
            "Drive already mounted at /content/drive; to attempt to forcibly remount, call drive.mount(\"/content/drive\", force_remount=True).\n"
          ]
        }
      ]
    },
    {
      "cell_type": "code",
      "metadata": {
        "colab": {
          "base_uri": "https://localhost:8080/"
        },
        "id": "zvq_hsL44-NA",
        "outputId": "efccef07-91a4-4dbb-9f66-5b665f8f1671"
      },
      "source": [
        "%cd /content/drive/MyDrive/Amrita/Semester 6/semester_projects/Machine Learning/Dataset/"
      ],
      "execution_count": null,
      "outputs": [
        {
          "output_type": "stream",
          "name": "stdout",
          "text": [
            "/content/drive/MyDrive/Amrita/Semester 6/semester_projects/Machine Learning/Dataset\n"
          ]
        }
      ]
    },
    {
      "cell_type": "code",
      "metadata": {
        "colab": {
          "base_uri": "https://localhost:8080/"
        },
        "id": "rPME1kBI5HZX",
        "outputId": "7d135fa9-9379-4904-b9fd-48a2cf3a4d23"
      },
      "source": [
        "%ls"
      ],
      "execution_count": null,
      "outputs": [
        {
          "output_type": "stream",
          "name": "stdout",
          "text": [
            "\u001b[0m\u001b[01;34mCOVID\u001b[0m/              covidLable.pckl        \u001b[01;34mnon-COVID\u001b[0m/\n",
            "covidFeatures.pckl  feature_extracted.csv  output_convo.jpg\n"
          ]
        }
      ]
    },
    {
      "cell_type": "code",
      "metadata": {
        "id": "Q_H4RAVE5JBb"
      },
      "source": [
        "#define size to which images are to be resized\n",
        "IMAGE_SIZE = [200, 200] # feel free to change depending on dataset\n",
        "\n",
        "# training config:\n",
        "epochs = 500\n",
        "batch_size = 32\n",
        "\n",
        "#define paths\n",
        "covid_path = 'COVID'\n",
        "noncovid_path = 'non-COVID'\n",
        "\n",
        "# Use glob to grab images from path .jpg or jpeg\n",
        "covid_files = glob(covid_path + '/*')\n",
        "noncovid_files = glob(noncovid_path + '/*')"
      ],
      "execution_count": null,
      "outputs": []
    },
    {
      "cell_type": "code",
      "metadata": {
        "colab": {
          "base_uri": "https://localhost:8080/"
        },
        "id": "udfg8cFE5a-_",
        "outputId": "6fbeb863-dd7f-4d80-b215-1d9ee31f139f"
      },
      "source": [
        "print(\"First 5 Covid Files: \",covid_files[0:5])\n",
        "print(\"Total Count: \",len(covid_files))\n",
        "print(\"First 5 NonCovid Files: \",noncovid_files[0:5])\n",
        "print(\"Total Count: \",len(noncovid_files))"
      ],
      "execution_count": null,
      "outputs": [
        {
          "output_type": "stream",
          "name": "stdout",
          "text": [
            "First 5 Covid Files:  ['COVID/Covid (229).png', 'COVID/Covid (237).png', 'COVID/Covid (1251).png', 'COVID/Covid (182).png', 'COVID/Covid (262).png']\n",
            "Total Count:  1252\n",
            "First 5 NonCovid Files:  ['non-COVID/Non-Covid (1161).png', 'non-COVID/Non-Covid (1103).png', 'non-COVID/Non-Covid (1027).png', 'non-COVID/Non-Covid (1038).png', 'non-COVID/Non-Covid (123).png']\n",
            "Total Count:  1229\n"
          ]
        }
      ]
    },
    {
      "cell_type": "code",
      "metadata": {
        "id": "j1PoPdXt5f2w"
      },
      "source": [
        "#lables generation\n",
        "covid_labels = []\n",
        "noncovid_labels = []\n",
        "for i in range(len(covid_files)):\n",
        "  covid_labels.append(\"covid\")\n",
        "for i in range(len(covid_files)):\n",
        "  noncovid_labels.append(\"noncovid\")"
      ],
      "execution_count": null,
      "outputs": []
    },
    {
      "cell_type": "code",
      "metadata": {
        "id": "MAm_IGFy5mgh"
      },
      "source": [
        "files = covid_files + noncovid_files\n",
        "lables = covid_labels + noncovid_labels\n",
        "df = pd.DataFrame(list(zip(files, lables)),columns =['Files', 'Lables'])\n",
        "df = df.sample(frac=1, random_state=42) #shuffle dataset"
      ],
      "execution_count": null,
      "outputs": []
    },
    {
      "cell_type": "code",
      "metadata": {
        "id": "ONjk2UJX3tQw",
        "colab": {
          "base_uri": "https://localhost:8080/",
          "height": 202,
          "referenced_widgets": [
            "1466be84eeb94a6e9dda671b7ec6b501",
            "95bb81c1dcfc4bbba594be220b335530",
            "10686f186b2e49eda68f834baf13f067",
            "1fbf0531d8444ca286ae2e05058f2fea",
            "e757ddcd254b414795554e44b7b44260",
            "b905e45de52e4bd580b50758b72f46e2",
            "879f71f277f542bbbe447f3f4efb8a33",
            "4600d816e29046f682e533ee3df3296b",
            "ade9e912aca64d46a553f42eb9297d57",
            "464787ed0a3645509e0fcc1ac7c33b6b",
            "cf2e0e4652a94d2a80b7d9dbfc0bf762"
          ]
        },
        "outputId": "7fcd0606-e866-42ed-83bb-96dd45339900"
      },
      "source": [
        "label = []\n",
        "featLength = 2+5+2\n",
        "trainFeats = np.zeros((len(df),featLength)) #Feature vector of each image is of size 1x1030\n",
        "for index in tqdm.tqdm_notebook(range(len(df))):\n",
        "    img = PIL.Image.open(df[\"Files\"][index]) #One image at a time\n",
        "    img = img.resize((IMAGE_SIZE[0],IMAGE_SIZE[1]))\n",
        "    img_gray = img.convert('L') #Converting to grayscale\n",
        "    img_gray = PIL.ImageOps.equalize(img_gray, mask = None)\n",
        "    img_arr = np.array(img_gray.getdata()).reshape(img.size[1],img.size[0]) #Converting to array\n",
        "    # LBP\n",
        "    feat_lbp = local_binary_pattern(img_arr,5,2,'uniform').reshape(img.size[0]*img.size[1])\n",
        "    lbp_hist,_ = np.histogram(feat_lbp,8)\n",
        "    lbp_hist = np.array(lbp_hist,dtype=float)\n",
        "    lbp_prob = np.divide(lbp_hist,np.sum(lbp_hist))\n",
        "    lbp_energy = np.nansum(lbp_prob**2)\n",
        "    lbp_entropy = -np.nansum(np.multiply(lbp_prob,np.log2(lbp_prob)))   \n",
        "    # GLCM\n",
        "    gCoMat = greycomatrix(img_arr, [2], [0],256,symmetric=True, normed=True)\n",
        "    contrast = greycoprops(gCoMat, prop='contrast')\n",
        "    dissimilarity = greycoprops(gCoMat, prop='dissimilarity')\n",
        "    homogeneity = greycoprops(gCoMat, prop='homogeneity')    \n",
        "    energy = greycoprops(gCoMat, prop='energy')\n",
        "    correlation = greycoprops(gCoMat, prop='correlation')    \n",
        "    feat_glcm = np.array([contrast[0][0],dissimilarity[0][0],homogeneity[0][0],energy[0][0],correlation[0][0]])\n",
        "    # Gabor filter\n",
        "    gaborFilt_real,gaborFilt_imag = gabor(img_arr,frequency=0.6)\n",
        "    gaborFilt = (gaborFilt_real**2+gaborFilt_imag**2)//2\n",
        "    gabor_hist,_ = np.histogram(gaborFilt,8)\n",
        "    gabor_hist = np.array(gabor_hist,dtype=float)\n",
        "    gabor_prob = np.divide(gabor_hist,np.sum(gabor_hist))\n",
        "    gabor_energy = np.nansum(gabor_prob**2)\n",
        "    gabor_entropy = -np.nansum(np.multiply(gabor_prob,np.log2(gabor_prob)))\n",
        "    # Concatenating features(2+5+2)    \n",
        "    concat_feat = np.concatenate(([lbp_energy,lbp_entropy],feat_glcm,[gabor_energy,gabor_entropy]),axis=0)\n",
        "    trainFeats[index,:] = concat_feat #Stacking features vectors for each image\n",
        "    # Class label\n",
        "    label.append(df[\"Lables\"][index])\n",
        "trainLabel = np.array(label) #Conversion from list to array"
      ],
      "execution_count": null,
      "outputs": [
        {
          "output_type": "stream",
          "name": "stderr",
          "text": [
            "/usr/local/lib/python3.7/dist-packages/ipykernel_launcher.py:4: TqdmDeprecationWarning: This function will be removed in tqdm==5.0.0\n",
            "Please use `tqdm.notebook.tqdm` instead of `tqdm.tqdm_notebook`\n",
            "  after removing the cwd from sys.path.\n"
          ]
        },
        {
          "output_type": "display_data",
          "data": {
            "application/vnd.jupyter.widget-view+json": {
              "model_id": "1466be84eeb94a6e9dda671b7ec6b501",
              "version_minor": 0,
              "version_major": 2
            },
            "text/plain": [
              "  0%|          | 0/2481 [00:00<?, ?it/s]"
            ]
          },
          "metadata": {}
        },
        {
          "output_type": "stream",
          "name": "stderr",
          "text": [
            "/usr/local/lib/python3.7/dist-packages/ipykernel_launcher.py:16: RuntimeWarning: divide by zero encountered in log2\n",
            "  app.launch_new_instance()\n",
            "/usr/local/lib/python3.7/dist-packages/ipykernel_launcher.py:16: RuntimeWarning: invalid value encountered in multiply\n",
            "  app.launch_new_instance()\n",
            "/usr/local/lib/python3.7/dist-packages/ipykernel_launcher.py:32: RuntimeWarning: divide by zero encountered in log2\n",
            "/usr/local/lib/python3.7/dist-packages/ipykernel_launcher.py:32: RuntimeWarning: invalid value encountered in multiply\n"
          ]
        }
      ]
    },
    {
      "cell_type": "code",
      "metadata": {
        "colab": {
          "base_uri": "https://localhost:8080/",
          "height": 197
        },
        "id": "dTZv2a4V5uZp",
        "outputId": "aabcee32-e61c-4461-8316-57f9016d104d"
      },
      "source": [
        "# Normalizing the train features to the range [0,1]\n",
        "trMaxs = np.amax(trainFeats,axis=0) #Finding maximum along each column\n",
        "trMins = np.amin(trainFeats,axis=0) #Finding maximum along each column\n",
        "trMaxs_rep = np.tile(trMaxs,(2481,1)) #Repeating the maximum value along the rows\n",
        "trMins_rep = np.tile(trMins,(2481,1)) #Repeating the minimum value along the rows\n",
        "trainFeatsNorm = np.divide(trainFeats-trMins_rep,trMaxs_rep) #Element-wise division\n",
        "# Normalizing the test features\n",
        "tsMaxs_rep = np.tile(trMaxs,(10000,1)) #Repeating the maximum value along the rows\n",
        "tsMins_rep = np.tile(trMins,(10000,1)) #Repeating the maximum value along the rows"
      ],
      "execution_count": null,
      "outputs": [
        {
          "output_type": "error",
          "ename": "NameError",
          "evalue": "ignored",
          "traceback": [
            "\u001b[0;31m---------------------------------------------------------------------------\u001b[0m",
            "\u001b[0;31mNameError\u001b[0m                                 Traceback (most recent call last)",
            "\u001b[0;32m<ipython-input-54-159888a43595>\u001b[0m in \u001b[0;36m<module>\u001b[0;34m()\u001b[0m\n\u001b[1;32m      8\u001b[0m \u001b[0mtsMaxs_rep\u001b[0m \u001b[0;34m=\u001b[0m \u001b[0mnp\u001b[0m\u001b[0;34m.\u001b[0m\u001b[0mtile\u001b[0m\u001b[0;34m(\u001b[0m\u001b[0mtrMaxs\u001b[0m\u001b[0;34m,\u001b[0m\u001b[0;34m(\u001b[0m\u001b[0;36m10000\u001b[0m\u001b[0;34m,\u001b[0m\u001b[0;36m1\u001b[0m\u001b[0;34m)\u001b[0m\u001b[0;34m)\u001b[0m \u001b[0;31m#Repeating the maximum value along the rows\u001b[0m\u001b[0;34m\u001b[0m\u001b[0;34m\u001b[0m\u001b[0m\n\u001b[1;32m      9\u001b[0m \u001b[0mtsMins_rep\u001b[0m \u001b[0;34m=\u001b[0m \u001b[0mnp\u001b[0m\u001b[0;34m.\u001b[0m\u001b[0mtile\u001b[0m\u001b[0;34m(\u001b[0m\u001b[0mtrMins\u001b[0m\u001b[0;34m,\u001b[0m\u001b[0;34m(\u001b[0m\u001b[0;36m10000\u001b[0m\u001b[0;34m,\u001b[0m\u001b[0;36m1\u001b[0m\u001b[0;34m)\u001b[0m\u001b[0;34m)\u001b[0m \u001b[0;31m#Repeating the maximum value along the rows\u001b[0m\u001b[0;34m\u001b[0m\u001b[0;34m\u001b[0m\u001b[0m\n\u001b[0;32m---> 10\u001b[0;31m \u001b[0mtestFeatsNorm\u001b[0m \u001b[0;34m=\u001b[0m \u001b[0mnp\u001b[0m\u001b[0;34m.\u001b[0m\u001b[0mdivide\u001b[0m\u001b[0;34m(\u001b[0m\u001b[0mtestFeats\u001b[0m\u001b[0;34m-\u001b[0m\u001b[0mtsMins_rep\u001b[0m\u001b[0;34m,\u001b[0m\u001b[0mtsMaxs_rep\u001b[0m\u001b[0;34m)\u001b[0m \u001b[0;31m#Element-wise division\u001b[0m\u001b[0;34m\u001b[0m\u001b[0;34m\u001b[0m\u001b[0m\n\u001b[0m",
            "\u001b[0;31mNameError\u001b[0m: name 'testFeats' is not defined"
          ]
        }
      ]
    },
    {
      "cell_type": "code",
      "metadata": {
        "id": "Kj8R3D1qBYVe"
      },
      "source": [
        "testFeatsNorm = np.divide(testFeats-tsMins_rep,tsMaxs_rep) #Element-wise division"
      ],
      "execution_count": null,
      "outputs": []
    },
    {
      "cell_type": "code",
      "metadata": {
        "id": "KK0O9R8pCEgX"
      },
      "source": [
        "with open(\"trainFeatsNew.pckl\", \"wb\") as f:\n",
        "    pickle.dump(trainFeatsNorm, f)\n",
        "with open(\"trainLabelNew.pckl\", \"wb\") as f:\n",
        "    pickle.dump(trainLabel, f)"
      ],
      "execution_count": null,
      "outputs": []
    },
    {
      "cell_type": "code",
      "metadata": {
        "colab": {
          "base_uri": "https://localhost:8080/",
          "height": 231
        },
        "id": "gs4qI3Bb5z6g",
        "outputId": "209c893b-4294-482c-c973-f5e4fe786bec"
      },
      "source": [
        "\n",
        "    \n",
        "# Saving normalized testing data and labels\n",
        "with open(\"testFeatsNew.pckl\", \"wb\") as f:\n",
        "    pickle.dump(testFeatsNorm, f)\n",
        "with open(\"testLabelNew.pckl\", \"wb\") as f:\n",
        "    pickle.dump(testLabel, f)\n",
        "    \n",
        "print('Files saved to disk!')"
      ],
      "execution_count": null,
      "outputs": [
        {
          "output_type": "error",
          "ename": "NameError",
          "evalue": "ignored",
          "traceback": [
            "\u001b[0;31m---------------------------------------------------------------------------\u001b[0m",
            "\u001b[0;31mNameError\u001b[0m                                 Traceback (most recent call last)",
            "\u001b[0;32m<ipython-input-55-9ae31518f66e>\u001b[0m in \u001b[0;36m<module>\u001b[0;34m()\u001b[0m\n\u001b[1;32m      6\u001b[0m \u001b[0;31m# Saving normalized testing data and labels\u001b[0m\u001b[0;34m\u001b[0m\u001b[0;34m\u001b[0m\u001b[0;34m\u001b[0m\u001b[0m\n\u001b[1;32m      7\u001b[0m \u001b[0;32mwith\u001b[0m \u001b[0mopen\u001b[0m\u001b[0;34m(\u001b[0m\u001b[0;34m\"testFeatsNew.pckl\"\u001b[0m\u001b[0;34m,\u001b[0m \u001b[0;34m\"wb\"\u001b[0m\u001b[0;34m)\u001b[0m \u001b[0;32mas\u001b[0m \u001b[0mf\u001b[0m\u001b[0;34m:\u001b[0m\u001b[0;34m\u001b[0m\u001b[0;34m\u001b[0m\u001b[0m\n\u001b[0;32m----> 8\u001b[0;31m     \u001b[0mpickle\u001b[0m\u001b[0;34m.\u001b[0m\u001b[0mdump\u001b[0m\u001b[0;34m(\u001b[0m\u001b[0mtestFeatsNorm\u001b[0m\u001b[0;34m,\u001b[0m \u001b[0mf\u001b[0m\u001b[0;34m)\u001b[0m\u001b[0;34m\u001b[0m\u001b[0;34m\u001b[0m\u001b[0m\n\u001b[0m\u001b[1;32m      9\u001b[0m \u001b[0;32mwith\u001b[0m \u001b[0mopen\u001b[0m\u001b[0;34m(\u001b[0m\u001b[0;34m\"testLabelNew.pckl\"\u001b[0m\u001b[0;34m,\u001b[0m \u001b[0;34m\"wb\"\u001b[0m\u001b[0;34m)\u001b[0m \u001b[0;32mas\u001b[0m \u001b[0mf\u001b[0m\u001b[0;34m:\u001b[0m\u001b[0;34m\u001b[0m\u001b[0;34m\u001b[0m\u001b[0m\n\u001b[1;32m     10\u001b[0m     \u001b[0mpickle\u001b[0m\u001b[0;34m.\u001b[0m\u001b[0mdump\u001b[0m\u001b[0;34m(\u001b[0m\u001b[0mtestLabel\u001b[0m\u001b[0;34m,\u001b[0m \u001b[0mf\u001b[0m\u001b[0;34m)\u001b[0m\u001b[0;34m\u001b[0m\u001b[0;34m\u001b[0m\u001b[0m\n",
            "\u001b[0;31mNameError\u001b[0m: name 'testFeatsNorm' is not defined"
          ]
        }
      ]
    },
    {
      "cell_type": "code",
      "metadata": {
        "id": "-iK8Ktt86-0X"
      },
      "source": [
        "X = pd.read_pickle('https://github.com/TharunNB/ML/blob/main/data/trainFeatsNew.pckl?raw=true')\n",
        "Y = pd.read_pickle('https://github.com/M2kishore/Covid_Detection_using_CT_scans_ML/blob/M2kishore-dataset-with-file-lable/covidLable.pckl?raw=true')\n",
        "X = pd.DataFrame(X,columns=['lbp_energy','lbp_entropy','glcm_contrast','glcm_dissimilarity','glcm_homogeniety','glcm_energy','glcm_correlation','gabor_energy','gabor_entropy'])\n",
        "Y = pd.DataFrame(Y,columns=['labels'])"
      ],
      "execution_count": 86,
      "outputs": []
    },
    {
      "cell_type": "code",
      "metadata": {
        "id": "Qd9HwRdWylqW"
      },
      "source": [
        "label_encoder = LabelEncoder()\n",
        "Y['labels'] = label_encoder.fit_transform(Y[\"labels\"])"
      ],
      "execution_count": 87,
      "outputs": []
    },
    {
      "cell_type": "code",
      "metadata": {
        "id": "jSgvzwTb2GCB"
      },
      "source": [
        "X = X.sample(frac=1,random_state=42)\n",
        "Y = Y.sample(frac=1,random_state=42)"
      ],
      "execution_count": 88,
      "outputs": []
    },
    {
      "cell_type": "code",
      "metadata": {
        "id": "7f9nzUY85rHM"
      },
      "source": [
        "X = StandardScaler().fit_transform(X)"
      ],
      "execution_count": 89,
      "outputs": []
    },
    {
      "cell_type": "markdown",
      "metadata": {
        "id": "UjHfPsVTFlrU"
      },
      "source": [
        "#FEATURE DECOMPOSITION"
      ]
    },
    {
      "cell_type": "code",
      "metadata": {
        "id": "ZT5m3i_998Pz"
      },
      "source": [
        "X = pd.read_pickle('https://github.com/TharunNB/ML/blob/main/data/trainFeatsNew.pckl?raw=true')\n",
        "Y = pd.read_pickle('https://github.com/M2kishore/Covid_Detection_using_CT_scans_ML/blob/M2kishore-dataset-with-file-lable/covidLable.pckl?raw=true')\n",
        "X = pd.DataFrame(X,columns=['lbp_energy','lbp_entropy','glcm_contrast','glcm_dissimilarity','glcm_homogeniety','glcm_energy','glcm_correlation','gabor_energy','gabor_entropy'])\n",
        "Y = pd.DataFrame(Y,columns=['labels'])\n",
        "label_encoder = LabelEncoder()\n",
        "Y['labels'] = label_encoder.fit_transform(Y[\"labels\"])\n",
        "X = X.sample(frac=1,random_state=42)\n",
        "Y = Y.sample(frac=1,random_state=42)\n",
        "Y = Y.values.reshape(-1,1)\n",
        "X = StandardScaler().fit_transform(X)"
      ],
      "execution_count": 112,
      "outputs": []
    },
    {
      "cell_type": "markdown",
      "metadata": {
        "id": "xRma6lxU9pHj"
      },
      "source": [
        "#Function for Testing Random Forenst"
      ]
    },
    {
      "cell_type": "code",
      "metadata": {
        "id": "nTjeQ16l2lXD"
      },
      "source": [
        "def RandomForestTest(X, Y):\n",
        "    X_Train, X_Test, Y_Train, Y_Test = train_test_split(X, Y, \n",
        "                                                        test_size = 0.30, \n",
        "                                                        random_state = 101)\n",
        "    trainedforest = RandomForestClassifier(n_estimators=700).fit(X_Train,Y_Train)\n",
        "    predictionforest = trainedforest.predict(X_Test)\n",
        "    print(confusion_matrix(Y_Test,predictionforest))\n",
        "    print(classification_report(Y_Test,predictionforest))"
      ],
      "execution_count": 113,
      "outputs": []
    },
    {
      "cell_type": "markdown",
      "metadata": {
        "id": "lakOS3fe6myc"
      },
      "source": [
        "## PCA"
      ]
    },
    {
      "cell_type": "code",
      "metadata": {
        "id": "nKPrRhES6l9F"
      },
      "source": [
        "def Pca(n):\n",
        "  pca = PCA(n_components=n)\n",
        "  x = pca.fit_transform(X)\n",
        "  return x"
      ],
      "execution_count": 114,
      "outputs": []
    },
    {
      "cell_type": "code",
      "metadata": {
        "colab": {
          "base_uri": "https://localhost:8080/"
        },
        "id": "le0L_XLC72ER",
        "outputId": "1d8409de-c09d-429e-c6ed-b359989c048e"
      },
      "source": [
        "X_pca = Pca(5)\n",
        "RandomForestTest(X_pca,Y)"
      ],
      "execution_count": 115,
      "outputs": [
        {
          "output_type": "stream",
          "name": "stderr",
          "text": [
            "/usr/local/lib/python3.7/dist-packages/ipykernel_launcher.py:5: DataConversionWarning: A column-vector y was passed when a 1d array was expected. Please change the shape of y to (n_samples,), for example using ravel().\n",
            "  \"\"\"\n"
          ]
        },
        {
          "output_type": "stream",
          "name": "stdout",
          "text": [
            "[[341  57]\n",
            " [ 50 297]]\n",
            "              precision    recall  f1-score   support\n",
            "\n",
            "           0       0.87      0.86      0.86       398\n",
            "           1       0.84      0.86      0.85       347\n",
            "\n",
            "    accuracy                           0.86       745\n",
            "   macro avg       0.86      0.86      0.86       745\n",
            "weighted avg       0.86      0.86      0.86       745\n",
            "\n"
          ]
        }
      ]
    },
    {
      "cell_type": "markdown",
      "metadata": {
        "id": "TuJJ3H2W8HCD"
      },
      "source": [
        "## Fast ICA"
      ]
    },
    {
      "cell_type": "code",
      "metadata": {
        "id": "4CGLTcVZ8EVL"
      },
      "source": [
        "def Ica(n):\n",
        "  ica = FastICA(n_components=n)\n",
        "  x = ica.fit_transform(X)\n",
        "  return x"
      ],
      "execution_count": 116,
      "outputs": []
    },
    {
      "cell_type": "code",
      "metadata": {
        "colab": {
          "base_uri": "https://localhost:8080/"
        },
        "id": "ouXZ5_cE8cXs",
        "outputId": "e8119ddd-de47-4424-bd9b-fc3b3085454f"
      },
      "source": [
        "X_Ica = Ica(5)\n",
        "RandomForestTest(Xdf,Y)"
      ],
      "execution_count": 117,
      "outputs": [
        {
          "output_type": "stream",
          "name": "stderr",
          "text": [
            "/usr/local/lib/python3.7/dist-packages/ipykernel_launcher.py:5: DataConversionWarning: A column-vector y was passed when a 1d array was expected. Please change the shape of y to (n_samples,), for example using ravel().\n",
            "  \"\"\"\n"
          ]
        },
        {
          "output_type": "stream",
          "name": "stdout",
          "text": [
            "[[341  57]\n",
            " [ 50 297]]\n",
            "              precision    recall  f1-score   support\n",
            "\n",
            "           0       0.87      0.86      0.86       398\n",
            "           1       0.84      0.86      0.85       347\n",
            "\n",
            "    accuracy                           0.86       745\n",
            "   macro avg       0.86      0.86      0.86       745\n",
            "weighted avg       0.86      0.86      0.86       745\n",
            "\n"
          ]
        }
      ]
    },
    {
      "cell_type": "markdown",
      "metadata": {
        "id": "DAzGTt_Y8vkj"
      },
      "source": [
        "## LDA"
      ]
    },
    {
      "cell_type": "code",
      "metadata": {
        "id": "x7Ky932D8xNz"
      },
      "source": [
        "def Lda(n):\n",
        "  lda = LinearDiscriminantAnalysis(n_components=n)\n",
        "\n",
        "  # run an LDA and use it to transform the features\n",
        "  x = lda.fit(X, Y).transform(X)\n",
        "  print('Original number of features:', X.shape[1])\n",
        "  print('Reduced number of features:', X_lda.shape[1])\n",
        "  return x"
      ],
      "execution_count": 118,
      "outputs": []
    },
    {
      "cell_type": "code",
      "metadata": {
        "colab": {
          "base_uri": "https://localhost:8080/"
        },
        "id": "vbKxkeCo88jq",
        "outputId": "1df562d0-ee92-4b13-9fd3-330f13ed5d17"
      },
      "source": [
        "X_lda = Lda(5)\n",
        "RandomForestTest(X_lda,Y)"
      ],
      "execution_count": 122,
      "outputs": [
        {
          "output_type": "stream",
          "name": "stderr",
          "text": [
            "/usr/local/lib/python3.7/dist-packages/sklearn/utils/validation.py:760: DataConversionWarning: A column-vector y was passed when a 1d array was expected. Please change the shape of y to (n_samples, ), for example using ravel().\n",
            "  y = column_or_1d(y, warn=True)\n",
            "/usr/local/lib/python3.7/dist-packages/sklearn/discriminant_analysis.py:463: ChangedBehaviorWarning: n_components cannot be larger than min(n_features, n_classes - 1). Using min(n_features, n_classes - 1) = min(9, 2 - 1) = 1 components.\n",
            "  ChangedBehaviorWarning)\n",
            "/usr/local/lib/python3.7/dist-packages/sklearn/discriminant_analysis.py:469: FutureWarning: In version 0.23, setting n_components > min(n_features, n_classes - 1) will raise a ValueError. You should set n_components to None (default), or a value smaller or equal to min(n_features, n_classes - 1).\n",
            "  warnings.warn(future_msg, FutureWarning)\n",
            "/usr/local/lib/python3.7/dist-packages/ipykernel_launcher.py:5: DataConversionWarning: A column-vector y was passed when a 1d array was expected. Please change the shape of y to (n_samples,), for example using ravel().\n",
            "  \"\"\"\n"
          ]
        },
        {
          "output_type": "stream",
          "name": "stdout",
          "text": [
            "Original number of features: 9\n",
            "Reduced number of features: 1\n",
            "[[225 173]\n",
            " [140 207]]\n",
            "              precision    recall  f1-score   support\n",
            "\n",
            "           0       0.62      0.57      0.59       398\n",
            "           1       0.54      0.60      0.57       347\n",
            "\n",
            "    accuracy                           0.58       745\n",
            "   macro avg       0.58      0.58      0.58       745\n",
            "weighted avg       0.58      0.58      0.58       745\n",
            "\n"
          ]
        }
      ]
    },
    {
      "cell_type": "markdown",
      "metadata": {
        "id": "KBzDxUeFCCjy"
      },
      "source": [
        "##LLE"
      ]
    },
    {
      "cell_type": "code",
      "metadata": {
        "id": "n0hUzLfJCEJa"
      },
      "source": [
        "def Lle(n):\n",
        "  embedding = LocallyLinearEmbedding(n_components=3)\n",
        "  x = embedding.fit_transform(X)\n",
        "  return x"
      ],
      "execution_count": 124,
      "outputs": []
    },
    {
      "cell_type": "code",
      "metadata": {
        "colab": {
          "base_uri": "https://localhost:8080/"
        },
        "id": "Zemx4Ch_COdp",
        "outputId": "6ee8a1ac-3749-4e38-d89a-a5139d8a0999"
      },
      "source": [
        "X_lle = Lle(5)\n",
        "RandomForestTest(X_lle,Y)"
      ],
      "execution_count": 125,
      "outputs": [
        {
          "output_type": "stream",
          "name": "stderr",
          "text": [
            "/usr/local/lib/python3.7/dist-packages/ipykernel_launcher.py:5: DataConversionWarning: A column-vector y was passed when a 1d array was expected. Please change the shape of y to (n_samples,), for example using ravel().\n",
            "  \"\"\"\n"
          ]
        },
        {
          "output_type": "stream",
          "name": "stdout",
          "text": [
            "[[232 166]\n",
            " [110 237]]\n",
            "              precision    recall  f1-score   support\n",
            "\n",
            "           0       0.68      0.58      0.63       398\n",
            "           1       0.59      0.68      0.63       347\n",
            "\n",
            "    accuracy                           0.63       745\n",
            "   macro avg       0.63      0.63      0.63       745\n",
            "weighted avg       0.64      0.63      0.63       745\n",
            "\n"
          ]
        }
      ]
    },
    {
      "cell_type": "markdown",
      "metadata": {
        "id": "8Lj2X7UNEJYI"
      },
      "source": [
        "## t-SNE"
      ]
    },
    {
      "cell_type": "code",
      "metadata": {
        "id": "JmIKSMwLEM_5"
      },
      "source": [
        "def Tsne(n,verbose,preplexity,n_iter):\n",
        "  tsne = TSNE(n_components=3, verbose=1, perplexity=40, n_iter=300)\n",
        "  x = tsne.fit_transform(X)\n",
        "  return x"
      ],
      "execution_count": 128,
      "outputs": []
    },
    {
      "cell_type": "code",
      "metadata": {
        "colab": {
          "base_uri": "https://localhost:8080/"
        },
        "id": "h5rEtTSEEmWC",
        "outputId": "255c37bf-042e-49b4-b122-97b55300b472"
      },
      "source": [
        "X_tsne = Tsne(5,1,40,3000)\n",
        "RandomForestTest(X_lle,Y)"
      ],
      "execution_count": 129,
      "outputs": [
        {
          "output_type": "stream",
          "name": "stdout",
          "text": [
            "[t-SNE] Computing 121 nearest neighbors...\n",
            "[t-SNE] Indexed 2481 samples in 0.002s...\n",
            "[t-SNE] Computed neighbors for 2481 samples in 0.087s...\n",
            "[t-SNE] Computed conditional probabilities for sample 1000 / 2481\n",
            "[t-SNE] Computed conditional probabilities for sample 2000 / 2481\n",
            "[t-SNE] Computed conditional probabilities for sample 2481 / 2481\n",
            "[t-SNE] Mean sigma: 0.391852\n",
            "[t-SNE] KL divergence after 250 iterations with early exaggeration: 63.944981\n",
            "[t-SNE] KL divergence after 300 iterations: 0.806496\n"
          ]
        },
        {
          "output_type": "stream",
          "name": "stderr",
          "text": [
            "/usr/local/lib/python3.7/dist-packages/ipykernel_launcher.py:5: DataConversionWarning: A column-vector y was passed when a 1d array was expected. Please change the shape of y to (n_samples,), for example using ravel().\n",
            "  \"\"\"\n"
          ]
        },
        {
          "output_type": "stream",
          "name": "stdout",
          "text": [
            "[[234 164]\n",
            " [108 239]]\n",
            "              precision    recall  f1-score   support\n",
            "\n",
            "           0       0.68      0.59      0.63       398\n",
            "           1       0.59      0.69      0.64       347\n",
            "\n",
            "    accuracy                           0.63       745\n",
            "   macro avg       0.64      0.64      0.63       745\n",
            "weighted avg       0.64      0.63      0.63       745\n",
            "\n"
          ]
        }
      ]
    },
    {
      "cell_type": "markdown",
      "metadata": {
        "id": "eqB6TEHIE8li"
      },
      "source": [
        "## Autoencoders"
      ]
    },
    {
      "cell_type": "code",
      "metadata": {
        "colab": {
          "base_uri": "https://localhost:8080/"
        },
        "id": "jQtqDxAXFEAS",
        "outputId": "b50fbbfd-e347-4afe-d11d-c45209730460"
      },
      "source": [
        "from keras.layers import Input, Dense\n",
        "from keras.models import Model\n",
        "\n",
        "input_layer = Input(shape=(X.shape[1],))\n",
        "encoded = Dense(7, activation='relu')(input_layer)\n",
        "decoded = Dense(X.shape[1], activation='softmax')(encoded)\n",
        "autoencoder = Model(input_layer, decoded)\n",
        "autoencoder.compile(optimizer='adam', loss='binary_crossentropy')\n",
        "\n",
        "X1, X2, Y1, Y2 = train_test_split(X, X, test_size=0.3, random_state=101)\n",
        "\n",
        "autoencoder.fit(X1, Y1,\n",
        "                epochs=100,\n",
        "                batch_size=300,\n",
        "                shuffle=True,\n",
        "                verbose = 30,\n",
        "                validation_data=(X2, Y2))\n",
        "\n",
        "encoder = Model(input_layer, encoded)\n",
        "X_ae = encoder.predict(X)"
      ],
      "execution_count": 134,
      "outputs": [
        {
          "output_type": "stream",
          "name": "stdout",
          "text": [
            "Epoch 1/100\n",
            "Epoch 2/100\n",
            "Epoch 3/100\n",
            "Epoch 4/100\n",
            "Epoch 5/100\n",
            "Epoch 6/100\n",
            "Epoch 7/100\n",
            "Epoch 8/100\n",
            "Epoch 9/100\n",
            "Epoch 10/100\n",
            "Epoch 11/100\n",
            "Epoch 12/100\n",
            "Epoch 13/100\n",
            "Epoch 14/100\n",
            "Epoch 15/100\n",
            "Epoch 16/100\n",
            "Epoch 17/100\n",
            "Epoch 18/100\n",
            "Epoch 19/100\n",
            "Epoch 20/100\n",
            "Epoch 21/100\n",
            "Epoch 22/100\n",
            "Epoch 23/100\n",
            "Epoch 24/100\n",
            "Epoch 25/100\n",
            "Epoch 26/100\n",
            "Epoch 27/100\n",
            "Epoch 28/100\n",
            "Epoch 29/100\n",
            "Epoch 30/100\n",
            "Epoch 31/100\n",
            "Epoch 32/100\n",
            "Epoch 33/100\n",
            "Epoch 34/100\n",
            "Epoch 35/100\n",
            "Epoch 36/100\n",
            "Epoch 37/100\n",
            "Epoch 38/100\n",
            "Epoch 39/100\n",
            "Epoch 40/100\n",
            "Epoch 41/100\n",
            "Epoch 42/100\n",
            "Epoch 43/100\n",
            "Epoch 44/100\n",
            "Epoch 45/100\n",
            "Epoch 46/100\n",
            "Epoch 47/100\n",
            "Epoch 48/100\n",
            "Epoch 49/100\n",
            "Epoch 50/100\n",
            "Epoch 51/100\n",
            "Epoch 52/100\n",
            "Epoch 53/100\n",
            "Epoch 54/100\n",
            "Epoch 55/100\n",
            "Epoch 56/100\n",
            "Epoch 57/100\n",
            "Epoch 58/100\n",
            "Epoch 59/100\n",
            "Epoch 60/100\n",
            "Epoch 61/100\n",
            "Epoch 62/100\n",
            "Epoch 63/100\n",
            "Epoch 64/100\n",
            "Epoch 65/100\n",
            "Epoch 66/100\n",
            "Epoch 67/100\n",
            "Epoch 68/100\n",
            "Epoch 69/100\n",
            "Epoch 70/100\n",
            "Epoch 71/100\n",
            "Epoch 72/100\n",
            "Epoch 73/100\n",
            "Epoch 74/100\n",
            "Epoch 75/100\n",
            "Epoch 76/100\n",
            "Epoch 77/100\n",
            "Epoch 78/100\n",
            "Epoch 79/100\n",
            "Epoch 80/100\n",
            "Epoch 81/100\n",
            "Epoch 82/100\n",
            "Epoch 83/100\n",
            "Epoch 84/100\n",
            "Epoch 85/100\n",
            "Epoch 86/100\n",
            "Epoch 87/100\n",
            "Epoch 88/100\n",
            "Epoch 89/100\n",
            "Epoch 90/100\n",
            "Epoch 91/100\n",
            "Epoch 92/100\n",
            "Epoch 93/100\n",
            "Epoch 94/100\n",
            "Epoch 95/100\n",
            "Epoch 96/100\n",
            "Epoch 97/100\n",
            "Epoch 98/100\n",
            "Epoch 99/100\n",
            "Epoch 100/100\n"
          ]
        }
      ]
    },
    {
      "cell_type": "code",
      "metadata": {
        "colab": {
          "base_uri": "https://localhost:8080/"
        },
        "id": "XMoW0FrRFIqh",
        "outputId": "58d00f59-c479-4d37-a66d-74d76a4fc8a4"
      },
      "source": [
        "RandomForestTest(X_ae,Y)"
      ],
      "execution_count": 135,
      "outputs": [
        {
          "output_type": "stream",
          "name": "stderr",
          "text": [
            "/usr/local/lib/python3.7/dist-packages/ipykernel_launcher.py:5: DataConversionWarning: A column-vector y was passed when a 1d array was expected. Please change the shape of y to (n_samples,), for example using ravel().\n",
            "  \"\"\"\n"
          ]
        },
        {
          "output_type": "stream",
          "name": "stdout",
          "text": [
            "[[305  93]\n",
            " [ 77 270]]\n",
            "              precision    recall  f1-score   support\n",
            "\n",
            "           0       0.80      0.77      0.78       398\n",
            "           1       0.74      0.78      0.76       347\n",
            "\n",
            "    accuracy                           0.77       745\n",
            "   macro avg       0.77      0.77      0.77       745\n",
            "weighted avg       0.77      0.77      0.77       745\n",
            "\n"
          ]
        }
      ]
    }
  ]
}