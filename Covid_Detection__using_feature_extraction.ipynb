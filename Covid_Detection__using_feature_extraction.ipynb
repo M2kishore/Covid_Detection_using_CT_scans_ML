{
  "nbformat": 4,
  "nbformat_minor": 0,
  "metadata": {
    "colab": {
      "name": "Covid_Detection_ using_feature_extraction.ipynb",
      "provenance": [],
      "collapsed_sections": [],
      "mount_file_id": "1XSOJ-1UkmgBKOS79QgW-ot15ljUS6wM6",
      "authorship_tag": "ABX9TyPr0ZMiZewJZeA9mQFqvkmP",
      "include_colab_link": true
    },
    "kernelspec": {
      "name": "python3",
      "display_name": "Python 3"
    },
    "language_info": {
      "name": "python"
    }
  },
  "cells": [
    {
      "cell_type": "markdown",
      "metadata": {
        "id": "view-in-github",
        "colab_type": "text"
      },
      "source": [
        "<a href=\"https://colab.research.google.com/github/M2kishore/Covid_Detection_using_CT_scans_ML/blob/M2kishore-dataset-with-file-lable/Covid_Detection__using_feature_extraction.ipynb\" target=\"_parent\"><img src=\"https://colab.research.google.com/assets/colab-badge.svg\" alt=\"Open In Colab\"/></a>"
      ]
    },
    {
      "cell_type": "code",
      "metadata": {
        "id": "HBiZRhAB4LEj"
      },
      "source": [
        "%matplotlib inline\n",
        "from glob import glob\n",
        "import cv2\n",
        "import PIL\n",
        "import tqdm\n",
        "import pickle\n",
        "import pandas as pd\n",
        "import numpy as np\n",
        "import seaborn as sns\n",
        "import matplotlib.pyplot as plt\n",
        "from torchvision import datasets\n",
        "from skimage.filters import gabor\n",
        "from skimage.feature import local_binary_pattern, greycomatrix, greycoprops"
      ],
      "execution_count": null,
      "outputs": []
    },
    {
      "cell_type": "code",
      "metadata": {
        "id": "NlRNEMq54gVh"
      },
      "source": [
        "# from google.colab import drive\n",
        "# drive.mount('/content/drive')"
      ],
      "execution_count": null,
      "outputs": []
    },
    {
      "cell_type": "code",
      "metadata": {
        "id": "qTu8cZOe4jVq"
      },
      "source": [
        "# %cd /content/drive/MyDrive/Amrita/Semester 6/semester_projects/Machine Learning/Dataset/"
      ],
      "execution_count": null,
      "outputs": []
    },
    {
      "cell_type": "code",
      "metadata": {
        "id": "5n0-bUly6I_E"
      },
      "source": [
        "# %ls"
      ],
      "execution_count": null,
      "outputs": []
    },
    {
      "cell_type": "code",
      "metadata": {
        "id": "ewGDEve35LYJ"
      },
      "source": [
        "# #define size to which images are to be resized\n",
        "# IMAGE_SIZE = [200, 200] # feel free to change depending on dataset\n",
        "\n",
        "# # training config:\n",
        "# epochs = 500\n",
        "# batch_size = 32\n",
        "\n",
        "# #define paths\n",
        "# covid_path = 'COVID'\n",
        "# noncovid_path = 'non-COVID'\n",
        "\n",
        "# # Use glob to grab images from path .jpg or jpeg\n",
        "# covid_files = glob(covid_path + '/*')\n",
        "# noncovid_files = glob(noncovid_path + '/*')"
      ],
      "execution_count": null,
      "outputs": []
    },
    {
      "cell_type": "code",
      "metadata": {
        "id": "yuY_h1nw55M6"
      },
      "source": [
        "# print(\"First 5 Covid Files: \",covid_files[0:5])\n",
        "# print(\"Total Count: \",len(covid_files))\n",
        "# print(\"First 5 NonCovid Files: \",noncovid_files[0:5])\n",
        "# print(\"Total Count: \",len(noncovid_files))"
      ],
      "execution_count": null,
      "outputs": []
    },
    {
      "cell_type": "code",
      "metadata": {
        "id": "Nw_r6pl57SrC"
      },
      "source": [
        "# #lables generation\n",
        "# covid_labels = []\n",
        "# noncovid_labels = []\n",
        "# for i in range(len(covid_files)):\n",
        "#   covid_labels.append(\"covid\")\n",
        "# for i in range(len(covid_files)):\n",
        "#   noncovid_labels.append(\"noncovid\")"
      ],
      "execution_count": null,
      "outputs": []
    },
    {
      "cell_type": "code",
      "metadata": {
        "id": "NqoKwpeK6uL9"
      },
      "source": [
        "# files = covid_files + noncovid_files\n",
        "# lables = covid_labels + noncovid_labels\n",
        "# df = pd.DataFrame(list(zip(files, lables)),columns =['Files', 'Lables'])\n",
        "# df = df.sample(frac=1, random_state=42) #shuffle dataset"
      ],
      "execution_count": null,
      "outputs": []
    },
    {
      "cell_type": "code",
      "metadata": {
        "id": "c51peHxO7bBR"
      },
      "source": [
        "# df.head()"
      ],
      "execution_count": null,
      "outputs": []
    },
    {
      "cell_type": "code",
      "metadata": {
        "id": "E8y6kiSt9H2q"
      },
      "source": [
        "# print(df[\"Files\"][5])\n",
        "# image = cv2.imread(df[\"Files\"][5])\n",
        "# plt.imshow(image)"
      ],
      "execution_count": null,
      "outputs": []
    },
    {
      "cell_type": "code",
      "metadata": {
        "id": "ONjk2UJX3tQw"
      },
      "source": [
        "# label = []\n",
        "# featLength = 2+5+2\n",
        "# trainFeats = np.zeros((len(df),featLength)) #Feature vector of each image is of size 1x1030\n",
        "# for index in tqdm.tqdm_notebook(range(len(df))):\n",
        "#     img = PIL.Image.open(df[\"Files\"][index]) #One image at a time\n",
        "#     img = img.resize((IMAGE_SIZE[0],IMAGE_SIZE[1]))\n",
        "#     img_gray = img.convert('L') #Converting to grayscale\n",
        "#     img_arr = np.array(img_gray.getdata()).reshape(img.size[1],img.size[0]) #Converting to array\n",
        "#     # LBP\n",
        "#     feat_lbp = local_binary_pattern(img_arr,5,2,'uniform').reshape(img.size[0]*img.size[1])\n",
        "#     lbp_hist,_ = np.histogram(feat_lbp,8)\n",
        "#     lbp_hist = np.array(lbp_hist,dtype=float)\n",
        "#     lbp_prob = np.divide(lbp_hist,np.sum(lbp_hist))\n",
        "#     lbp_energy = np.nansum(lbp_prob**2)\n",
        "#     lbp_entropy = -np.nansum(np.multiply(lbp_prob,np.log2(lbp_prob)))   \n",
        "#     # GLCM\n",
        "#     gCoMat = greycomatrix(img_arr, [2], [0],256,symmetric=True, normed=True)\n",
        "#     contrast = greycoprops(gCoMat, prop='contrast')\n",
        "#     dissimilarity = greycoprops(gCoMat, prop='dissimilarity')\n",
        "#     homogeneity = greycoprops(gCoMat, prop='homogeneity')    \n",
        "#     energy = greycoprops(gCoMat, prop='energy')\n",
        "#     correlation = greycoprops(gCoMat, prop='correlation')    \n",
        "#     feat_glcm = np.array([contrast[0][0],dissimilarity[0][0],homogeneity[0][0],energy[0][0],correlation[0][0]])\n",
        "#     # Gabor filter\n",
        "#     gaborFilt_real,gaborFilt_imag = gabor(img_arr,frequency=0.6)\n",
        "#     gaborFilt = (gaborFilt_real**2+gaborFilt_imag**2)//2\n",
        "#     gabor_hist,_ = np.histogram(gaborFilt,8)\n",
        "#     gabor_hist = np.array(gabor_hist,dtype=float)\n",
        "#     gabor_prob = np.divide(gabor_hist,np.sum(gabor_hist))\n",
        "#     gabor_energy = np.nansum(gabor_prob**2)\n",
        "#     gabor_entropy = -np.nansum(np.multiply(gabor_prob,np.log2(gabor_prob)))\n",
        "#     # Concatenating features(2+5+2)    \n",
        "#     concat_feat = np.concatenate(([lbp_energy,lbp_entropy],feat_glcm,[gabor_energy,gabor_entropy]),axis=0)\n",
        "#     trainFeats[index,:] = concat_feat #Stacking features vectors for each image\n",
        "#     # Class label\n",
        "#     label.append(df[\"Lables\"][index])\n",
        "# trainLabel = np.array(label) #Conversion from list to array"
      ],
      "execution_count": null,
      "outputs": []
    },
    {
      "cell_type": "code",
      "metadata": {
        "id": "sHMIN-uC4Ggh"
      },
      "source": [
        "# # Normalizing the train features to the range [0,1]\n",
        "# trMaxs = np.amax(trainFeats,axis=0) #Finding maximum along each column\n",
        "# trMins = np.amin(trainFeats,axis=0) #Finding maximum along each column\n",
        "# trMaxs_rep = np.tile(trMaxs,(2481,1)) #Repeating the maximum value along the rows\n",
        "# trMins_rep = np.tile(trMins,(2481,1)) #Repeating the minimum value along the rows\n",
        "# trainFeatsNorm = np.divide(trainFeats-trMins_rep,trMaxs_rep) #Element-wise division\n",
        "# # Normalizing the test features\n",
        "# tsMaxs_rep = np.tile(trMaxs,(10000,1)) #Repeating the maximum value along the rows\n",
        "# tsMins_rep = np.tile(trMins,(10000,1)) #Repeating the maximum value along the rows\n",
        "# testFeatsNorm = np.divide(testFeats-tsMins_rep,tsMaxs_rep) #Element-wise division"
      ],
      "execution_count": null,
      "outputs": []
    },
    {
      "cell_type": "code",
      "metadata": {
        "id": "TQgFBw8V4IQg"
      },
      "source": [
        "# with open(\"trainFeats.pckl\", \"wb\") as f:\n",
        "#     pickle.dump(trainFeatsNorm, f)\n",
        "# with open(\"trainLabel.pckl\", \"wb\") as f:\n",
        "#     pickle.dump(trainLabel, f)\n",
        "    \n",
        "# # Saving normalized testing data and labels\n",
        "# with open(\"testFeats.pckl\", \"wb\") as f:\n",
        "#     pickle.dump(testFeatsNorm, f)\n",
        "# with open(\"testLabel.pckl\", \"wb\") as f:\n",
        "#     pickle.dump(testLabel, f)\n",
        "    \n",
        "# print('Files saved to disk!')"
      ],
      "execution_count": null,
      "outputs": []
    },
    {
      "cell_type": "code",
      "metadata": {
        "colab": {
          "base_uri": "https://localhost:8080/"
        },
        "id": "kStU_F8ycBt5",
        "outputId": "ae9f6636-b7da-4e95-c657-339a3db69d94"
      },
      "source": [
        "%ls"
      ],
      "execution_count": null,
      "outputs": [
        {
          "output_type": "stream",
          "name": "stdout",
          "text": [
            "\u001b[0m\u001b[01;34mCOVID\u001b[0m/                 \u001b[01;34mnon-COVID\u001b[0m/           trainFeats.pckl\n",
            "feature_extracted.csv  patches_dataset.csv  trainLabel.pckl\n",
            "feature_patch_1.csv    testFeats.pckl\n"
          ]
        }
      ]
    },
    {
      "cell_type": "code",
      "metadata": {
        "id": "EorMARp0cJkX"
      },
      "source": [
        "X = pd.read_pickle('trainFeats.pckl')\n",
        "Y = pd.read_pickle('trainLabel.pckl')\n",
        "X = pd.DataFrame(X,columns=['lbp_energy','lbp_entropy','glcm_contrast','glcm_dissimilarity','glcm_homogeniety','glcm_energy','glcm_correlation','gabor_energy','gabor_entropy'])\n",
        "Y = pd.DataFrame(Y,columns=['labels'])"
      ],
      "execution_count": 197,
      "outputs": []
    },
    {
      "cell_type": "markdown",
      "metadata": {
        "id": "HvcvKUEs1sGh"
      },
      "source": [
        "#Visualization#"
      ]
    },
    {
      "cell_type": "code",
      "metadata": {
        "colab": {
          "base_uri": "https://localhost:8080/",
          "height": 372
        },
        "id": "eHlydGiE1qGX",
        "outputId": "1a288767-d719-4348-c9e1-50a5b02c610c"
      },
      "source": [
        "sns.heatmap(X.corr(), annot = True)"
      ],
      "execution_count": 198,
      "outputs": [
        {
          "output_type": "execute_result",
          "data": {
            "text/plain": [
              "<matplotlib.axes._subplots.AxesSubplot at 0x7fb7526a5d50>"
            ]
          },
          "metadata": {},
          "execution_count": 198
        },
        {
          "output_type": "display_data",
          "data": {
            "image/png": "[encoded data removed]",
            "text/plain": [
              "<Figure size 432x288 with 2 Axes>"
            ]
          },
          "metadata": {
            "needs_background": "light"
          }
        }
      ]
    },
    {
      "cell_type": "markdown",
      "metadata": {
        "id": "0RQjS65v1PuI"
      },
      "source": [
        "Sampling and Randomize Testing"
      ]
    },
    {
      "cell_type": "code",
      "metadata": {
        "id": "sovL-7il0xhF"
      },
      "source": [
        "#X = X.sample(frac=1,random_state=42)\n",
        "#Y = Y.sample(frac = 1,random_state=42)"
      ],
      "execution_count": 199,
      "outputs": []
    },
    {
      "cell_type": "code",
      "metadata": {
        "colab": {
          "base_uri": "https://localhost:8080/"
        },
        "id": "3Ut4B6ZVC86i",
        "outputId": "98ad0f25-7867-4f17-9f51-863d7a45228b"
      },
      "source": [
        "print(X.head())\n",
        "print(Y.head())"
      ],
      "execution_count": 200,
      "outputs": [
        {
          "output_type": "stream",
          "name": "stdout",
          "text": [
            "   lbp_energy  lbp_entropy  ...  gabor_energy  gabor_entropy\n",
            "0    0.017236     0.121773  ...      0.581479       0.183241\n",
            "1    0.017855     0.121603  ...      0.538920       0.234313\n",
            "2    0.046370     0.110524  ...      0.635952       0.114182\n",
            "3    0.051455     0.109109  ...      0.447744       0.336196\n",
            "4    0.024237     0.118902  ...      0.500625       0.266753\n",
            "\n",
            "[5 rows x 9 columns]\n",
            "  labels\n",
            "0  covid\n",
            "1  covid\n",
            "2  covid\n",
            "3  covid\n",
            "4  covid\n"
          ]
        }
      ]
    },
    {
      "cell_type": "markdown",
      "metadata": {
        "id": "cHHMzWP3ym4P"
      },
      "source": [
        "Lable Encoding Y"
      ]
    },
    {
      "cell_type": "code",
      "metadata": {
        "id": "T846SZnyLA_A"
      },
      "source": [
        "from sklearn import preprocessing\n",
        "label_encoder = preprocessing.LabelEncoder()\n",
        "\n",
        "Y['labels']= label_encoder.fit_transform(Y['labels'])\n",
        " "
      ],
      "execution_count": 202,
      "outputs": []
    },
    {
      "cell_type": "markdown",
      "metadata": {
        "id": "s_PrfJPwzPzX"
      },
      "source": [
        "Dataset Splitting"
      ]
    },
    {
      "cell_type": "code",
      "metadata": {
        "id": "z0QWnZHJW2Pe"
      },
      "source": [
        "from sklearn.model_selection import train_test_split\n",
        "from sklearn.metrics import mean_absolute_error, accuracy_score\n",
        "X_train, X_test, Y_train, Y_test = train_test_split(X, Y, test_size=0.2)"
      ],
      "execution_count": 203,
      "outputs": []
    },
    {
      "cell_type": "markdown",
      "metadata": {
        "id": "DhlrtsOm6Fgk"
      },
      "source": [
        "Helper Functions"
      ]
    },
    {
      "cell_type": "code",
      "metadata": {
        "id": "cU1tQ7GCuzwh"
      },
      "source": [
        "def predictionBinarizer(y_predict,threshold =0.5):\n",
        "  y_predict = y_predict.ravel()\n",
        "  for i in range(len(y_predict)):\n",
        "    if y_predict[i] >= threshold:\n",
        "      y_predict[i] = 1\n",
        "    else:\n",
        "      y_predict[i] = 0\n",
        "  return y_predict"
      ],
      "execution_count": 204,
      "outputs": []
    },
    {
      "cell_type": "markdown",
      "metadata": {
        "id": "CQ6gla59xxpq"
      },
      "source": [
        "Using Random Forest"
      ]
    },
    {
      "cell_type": "code",
      "metadata": {
        "colab": {
          "base_uri": "https://localhost:8080/"
        },
        "id": "WhHP1KAXZeqV",
        "outputId": "b4162070-58c2-4edf-c004-1a1f78bd3bc1"
      },
      "source": [
        "from sklearn.ensemble import RandomForestRegressor\n",
        "model = RandomForestRegressor(random_state=1)\n",
        "model.fit(X_train,Y_train)\n",
        "\n",
        "Y_predict = model.predict(X_test)\n",
        "\n",
        "Y_predict = predictionBinarizer(Y_predict)\n",
        "\n",
        "acc = accuracy_score(Y_test, Y_predict) * 100\n",
        "print('Accuracy: %.3f' % acc)"
      ],
      "execution_count": 207,
      "outputs": [
        {
          "output_type": "stream",
          "name": "stderr",
          "text": [
            "/usr/local/lib/python3.7/dist-packages/ipykernel_launcher.py:3: DataConversionWarning: A column-vector y was passed when a 1d array was expected. Please change the shape of y to (n_samples,), for example using ravel().\n",
            "  This is separate from the ipykernel package so we can avoid doing imports until\n"
          ]
        },
        {
          "output_type": "stream",
          "name": "stdout",
          "text": [
            "Accuracy: 88.531\n"
          ]
        }
      ]
    },
    {
      "cell_type": "markdown",
      "metadata": {
        "id": "LztY_o9YyHw9"
      },
      "source": [
        "Using Linear Regression"
      ]
    },
    {
      "cell_type": "code",
      "metadata": {
        "colab": {
          "base_uri": "https://localhost:8080/"
        },
        "id": "ctr1O75BfL5k",
        "outputId": "dbfe621b-e815-4027-e9bd-3a7fe1bf6582"
      },
      "source": [
        "from sklearn.linear_model import LinearRegression\n",
        "model = LinearRegression()\n",
        "model.fit(X_train,Y_train)\n",
        "\n",
        "Y_predict = model.predict(X_test)\n",
        "\n",
        "Y_predict = predictionBinarizer(Y_predict)\n",
        "\n",
        "acc = accuracy_score(Y_test, Y_predict) * 100\n",
        "print('Accuracy: %.3f ' % acc)"
      ],
      "execution_count": 206,
      "outputs": [
        {
          "output_type": "stream",
          "name": "stdout",
          "text": [
            "Accuracy: 78.270 \n"
          ]
        }
      ]
    },
    {
      "cell_type": "code",
      "metadata": {
        "id": "mmBwmOnbaz5r"
      },
      "source": [
        ""
      ],
      "execution_count": null,
      "outputs": []
    }
  ]
}